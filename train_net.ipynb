{
 "cells": [
  {
   "cell_type": "code",
   "execution_count": 1,
   "id": "2eebce97",
   "metadata": {},
   "outputs": [
    {
     "data": {
      "text/plain": [
       "RandomState(MT19937) at 0x2CF2C95E488"
      ]
     },
     "execution_count": 1,
     "metadata": {},
     "output_type": "execute_result"
    }
   ],
   "source": [
    "from pathlib import Path\n",
    "import pandas as pd\n",
    "from model import *\n",
    "from utils import get_train_transform, get_device, set_seed\n",
    "from torchvision import models\n",
    "import timm\n",
    "set_seed()"
   ]
  },
  {
   "cell_type": "code",
   "execution_count": 2,
   "id": "ca2bc8c0",
   "metadata": {},
   "outputs": [],
   "source": [
    "root_dir = Path.cwd()\n",
    "data_dir = root_dir.joinpath('data')\n",
    "img_dir = data_dir.joinpath('train')"
   ]
  },
  {
   "cell_type": "code",
   "execution_count": 3,
   "id": "7bf52050",
   "metadata": {},
   "outputs": [],
   "source": [
    "df = pd.read_csv(data_dir.joinpath('train_labels.csv'))\n",
    "dataset = SetiDataset(df, img_dir)"
   ]
  },
  {
   "cell_type": "code",
   "execution_count": 4,
   "id": "c7d085b6",
   "metadata": {},
   "outputs": [],
   "source": [
    "device = get_device()"
   ]
  },
  {
   "cell_type": "code",
   "execution_count": 5,
   "id": "7bab4b7d",
   "metadata": {},
   "outputs": [],
   "source": [
    "#densenet = models.densenet121(pretrained=True)\n",
    "#resnext = models.resnext50_32x4d(pretrained=True)\n",
    "efficientnet = timm.create_model('efficientnet_b0', pretrained=True)\n",
    "net = DoubleNet(efficientnet)\n",
    "path2weights = str(root_dir.joinpath('default_weights'))\n",
    "torch.save(net.state_dict(), path2weights)"
   ]
  },
  {
   "cell_type": "code",
   "execution_count": 6,
   "id": "428287f5",
   "metadata": {},
   "outputs": [],
   "source": [
    "loss = weighted_bce(df)\n",
    "train_transform = get_train_transform()"
   ]
  },
  {
   "cell_type": "code",
   "execution_count": 7,
   "id": "7e4d700a",
   "metadata": {},
   "outputs": [],
   "source": [
    "config = TrainGlobalConfig\n",
    "config.batch_size = 32\n",
    "config.n_epochs = 25\n",
    "config.folds = 5\n",
    "config.lr = 3e-4"
   ]
  },
  {
   "cell_type": "code",
   "execution_count": 8,
   "id": "373d0c6b",
   "metadata": {},
   "outputs": [
    {
     "name": "stdout",
     "output_type": "stream",
     "text": [
      "Fitter prepared. Device is cuda\n"
     ]
    }
   ],
   "source": [
    "fitter = Fitter(net=net, path2weights=path2weights, now_device=device, config=config, loss=loss)"
   ]
  },
  {
   "cell_type": "code",
   "execution_count": 9,
   "id": "43637c81",
   "metadata": {},
   "outputs": [
    {
     "name": "stdout",
     "output_type": "stream",
     "text": [
      "START NEW FOLD\n",
      "Time: 2021-06-26T07:35:41.325173 \n",
      "\n"
     ]
    },
    {
     "data": {
      "application/vnd.jupyter.widget-view+json": {
       "model_id": "18f70d8ca405455d983ac6ca613c4c9d",
       "version_major": 2,
       "version_minor": 0
      },
      "text/plain": [
       "  0%|                                                                                                         …"
      ]
     },
     "metadata": {},
     "output_type": "display_data"
    },
    {
     "name": "stdout",
     "output_type": "stream",
     "text": [
      "[RESULT]: Train. Epoch: 0, summary_loss: 0.23109, AUC_ROC: 0.770 time: 1929.59721\n"
     ]
    },
    {
     "data": {
      "application/vnd.jupyter.widget-view+json": {
       "model_id": "935ab1b142874d07bce4fa0aabd588e7",
       "version_major": 2,
       "version_minor": 0
      },
      "text/plain": [
       "  0%|                                                                                                         …"
      ]
     },
     "metadata": {},
     "output_type": "display_data"
    },
    {
     "name": "stdout",
     "output_type": "stream",
     "text": [
      "[RESULT]: Val. Epoch: 0, summary_loss: 0.13464, AUC ROC: 0.926 time: 0.00000\n",
      "Time: 2021-06-26T08:13:49.292774 \n",
      "\n"
     ]
    },
    {
     "data": {
      "application/vnd.jupyter.widget-view+json": {
       "model_id": "24a74972b82b48cc86c058edff518eb7",
       "version_major": 2,
       "version_minor": 0
      },
      "text/plain": [
       "  0%|                                                                                                         …"
      ]
     },
     "metadata": {},
     "output_type": "display_data"
    },
    {
     "name": "stdout",
     "output_type": "stream",
     "text": [
      "[RESULT]: Train. Epoch: 1, summary_loss: 0.15858, AUC_ROC: 0.893 time: 2007.29658\n"
     ]
    },
    {
     "data": {
      "application/vnd.jupyter.widget-view+json": {
       "model_id": "247cc7084416498092b56ff8bacf4a3c",
       "version_major": 2,
       "version_minor": 0
      },
      "text/plain": [
       "  0%|                                                                                                         …"
      ]
     },
     "metadata": {},
     "output_type": "display_data"
    },
    {
     "name": "stdout",
     "output_type": "stream",
     "text": [
      "[RESULT]: Val. Epoch: 1, summary_loss: 0.11613, AUC ROC: 0.947 time: 0.00000\n",
      "Time: 2021-06-26T08:53:11.844028 \n",
      "\n"
     ]
    },
    {
     "data": {
      "application/vnd.jupyter.widget-view+json": {
       "model_id": "cf93698dd4924e4482c8ecaa74886efb",
       "version_major": 2,
       "version_minor": 0
      },
      "text/plain": [
       "  0%|                                                                                                         …"
      ]
     },
     "metadata": {},
     "output_type": "display_data"
    },
    {
     "name": "stdout",
     "output_type": "stream",
     "text": [
      "[RESULT]: Train. Epoch: 2, summary_loss: 0.13784, AUC_ROC: 0.916 time: 2007.83273\n"
     ]
    },
    {
     "data": {
      "application/vnd.jupyter.widget-view+json": {
       "model_id": "98e24d333d5b484c8ab80b335c510316",
       "version_major": 2,
       "version_minor": 0
      },
      "text/plain": [
       "  0%|                                                                                                         …"
      ]
     },
     "metadata": {},
     "output_type": "display_data"
    },
    {
     "name": "stdout",
     "output_type": "stream",
     "text": [
      "[RESULT]: Val. Epoch: 2, summary_loss: 0.07699, AUC ROC: 0.963 time: 0.00000\n",
      "Time: 2021-06-26T09:32:39.634491 \n",
      "\n"
     ]
    },
    {
     "data": {
      "application/vnd.jupyter.widget-view+json": {
       "model_id": "e56ae5eb32fb48198da38e4e2f1e9bfa",
       "version_major": 2,
       "version_minor": 0
      },
      "text/plain": [
       "  0%|                                                                                                         …"
      ]
     },
     "metadata": {},
     "output_type": "display_data"
    },
    {
     "name": "stdout",
     "output_type": "stream",
     "text": [
      "[RESULT]: Train. Epoch: 3, summary_loss: 0.12608, AUC_ROC: 0.930 time: 2034.76790\n"
     ]
    },
    {
     "data": {
      "application/vnd.jupyter.widget-view+json": {
       "model_id": "03cf32724527490da5a48e6d804b80cb",
       "version_major": 2,
       "version_minor": 0
      },
      "text/plain": [
       "  0%|                                                                                                         …"
      ]
     },
     "metadata": {},
     "output_type": "display_data"
    },
    {
     "name": "stdout",
     "output_type": "stream",
     "text": [
      "[RESULT]: Val. Epoch: 3, summary_loss: 0.07530, AUC ROC: 0.966 time: 0.00000\n",
      "Time: 2021-06-26T10:12:36.329566 \n",
      "\n"
     ]
    },
    {
     "data": {
      "application/vnd.jupyter.widget-view+json": {
       "model_id": "61863125714d4b1194aacd5991dce8e7",
       "version_major": 2,
       "version_minor": 0
      },
      "text/plain": [
       "  0%|                                                                                                         …"
      ]
     },
     "metadata": {},
     "output_type": "display_data"
    },
    {
     "name": "stdout",
     "output_type": "stream",
     "text": [
      "[RESULT]: Train. Epoch: 4, summary_loss: 0.11561, AUC_ROC: 0.938 time: 2042.60113\n"
     ]
    },
    {
     "data": {
      "application/vnd.jupyter.widget-view+json": {
       "model_id": "8608f350b7af41069d454b79a6b999be",
       "version_major": 2,
       "version_minor": 0
      },
      "text/plain": [
       "  0%|                                                                                                         …"
      ]
     },
     "metadata": {},
     "output_type": "display_data"
    },
    {
     "name": "stdout",
     "output_type": "stream",
     "text": [
      "[RESULT]: Val. Epoch: 4, summary_loss: 0.07261, AUC ROC: 0.965 time: 0.00000\n",
      "Time: 2021-06-26T10:52:41.803077 \n",
      "\n"
     ]
    },
    {
     "data": {
      "application/vnd.jupyter.widget-view+json": {
       "model_id": "831d840890634008a4440e1d86c040bd",
       "version_major": 2,
       "version_minor": 0
      },
      "text/plain": [
       "  0%|                                                                                                         …"
      ]
     },
     "metadata": {},
     "output_type": "display_data"
    },
    {
     "name": "stdout",
     "output_type": "stream",
     "text": [
      "[RESULT]: Train. Epoch: 5, summary_loss: 0.11063, AUC_ROC: 0.943 time: 2047.32372\n"
     ]
    },
    {
     "data": {
      "application/vnd.jupyter.widget-view+json": {
       "model_id": "4e92189d5325479d926a3d52e0e81f89",
       "version_major": 2,
       "version_minor": 0
      },
      "text/plain": [
       "  0%|                                                                                                         …"
      ]
     },
     "metadata": {},
     "output_type": "display_data"
    },
    {
     "name": "stdout",
     "output_type": "stream",
     "text": [
      "[RESULT]: Val. Epoch: 5, summary_loss: 0.07345, AUC ROC: 0.966 time: 0.00000\n",
      "Time: 2021-06-26T11:32:47.621235 \n",
      "\n"
     ]
    },
    {
     "data": {
      "application/vnd.jupyter.widget-view+json": {
       "model_id": "58984576f6ff4c808653c4ea2b9897c6",
       "version_major": 2,
       "version_minor": 0
      },
      "text/plain": [
       "  0%|                                                                                                         …"
      ]
     },
     "metadata": {},
     "output_type": "display_data"
    },
    {
     "name": "stdout",
     "output_type": "stream",
     "text": [
      "[RESULT]: Train. Epoch: 6, summary_loss: 0.10608, AUC_ROC: 0.949 time: 2060.94274\n"
     ]
    },
    {
     "data": {
      "application/vnd.jupyter.widget-view+json": {
       "model_id": "aae7912e49414075a460da37f8e30a74",
       "version_major": 2,
       "version_minor": 0
      },
      "text/plain": [
       "  0%|                                                                                                         …"
      ]
     },
     "metadata": {},
     "output_type": "display_data"
    },
    {
     "name": "stdout",
     "output_type": "stream",
     "text": [
      "[RESULT]: Val. Epoch: 6, summary_loss: 0.07234, AUC ROC: 0.969 time: 0.00000\n",
      "Time: 2021-06-26T12:13:09.038827 \n",
      "\n"
     ]
    },
    {
     "data": {
      "application/vnd.jupyter.widget-view+json": {
       "model_id": "67f6c1e7cab84817ad2e1f1ff9b30a6a",
       "version_major": 2,
       "version_minor": 0
      },
      "text/plain": [
       "  0%|                                                                                                         …"
      ]
     },
     "metadata": {},
     "output_type": "display_data"
    },
    {
     "name": "stdout",
     "output_type": "stream",
     "text": [
      "[RESULT]: Train. Epoch: 7, summary_loss: 0.10365, AUC_ROC: 0.950 time: 2039.25518\n"
     ]
    },
    {
     "data": {
      "application/vnd.jupyter.widget-view+json": {
       "model_id": "1beffc61279e41a28bb32ee0bd65520c",
       "version_major": 2,
       "version_minor": 0
      },
      "text/plain": [
       "  0%|                                                                                                         …"
      ]
     },
     "metadata": {},
     "output_type": "display_data"
    },
    {
     "name": "stdout",
     "output_type": "stream",
     "text": [
      "[RESULT]: Val. Epoch: 7, summary_loss: 0.06347, AUC ROC: 0.970 time: 0.00000\n",
      "Time: 2021-06-26T12:53:08.264770 \n",
      "\n"
     ]
    },
    {
     "data": {
      "application/vnd.jupyter.widget-view+json": {
       "model_id": "94da3c94a4c14800b9360b85401cd8b6",
       "version_major": 2,
       "version_minor": 0
      },
      "text/plain": [
       "  0%|                                                                                                         …"
      ]
     },
     "metadata": {},
     "output_type": "display_data"
    },
    {
     "name": "stdout",
     "output_type": "stream",
     "text": [
      "[RESULT]: Train. Epoch: 8, summary_loss: 0.10115, AUC_ROC: 0.951 time: 2040.87925\n"
     ]
    },
    {
     "data": {
      "application/vnd.jupyter.widget-view+json": {
       "model_id": "b7c28d19947948d797b5c36e114b04bf",
       "version_major": 2,
       "version_minor": 0
      },
      "text/plain": [
       "  0%|                                                                                                         …"
      ]
     },
     "metadata": {},
     "output_type": "display_data"
    },
    {
     "name": "stdout",
     "output_type": "stream",
     "text": [
      "[RESULT]: Val. Epoch: 8, summary_loss: 0.06848, AUC ROC: 0.967 time: 0.00000\n",
      "Time: 2021-06-26T13:33:12.602092 \n",
      "\n"
     ]
    },
    {
     "data": {
      "application/vnd.jupyter.widget-view+json": {
       "model_id": "d06103444519494e9172f28b7c5a4e0d",
       "version_major": 2,
       "version_minor": 0
      },
      "text/plain": [
       "  0%|                                                                                                         …"
      ]
     },
     "metadata": {},
     "output_type": "display_data"
    },
    {
     "name": "stdout",
     "output_type": "stream",
     "text": [
      "[RESULT]: Train. Epoch: 9, summary_loss: 0.09775, AUC_ROC: 0.955 time: 2038.55533\n"
     ]
    },
    {
     "data": {
      "application/vnd.jupyter.widget-view+json": {
       "model_id": "9dbea119ba9c496bb839035ac1f77fa0",
       "version_major": 2,
       "version_minor": 0
      },
      "text/plain": [
       "  0%|                                                                                                         …"
      ]
     },
     "metadata": {},
     "output_type": "display_data"
    },
    {
     "name": "stdout",
     "output_type": "stream",
     "text": [
      "[RESULT]: Val. Epoch: 9, summary_loss: 0.07804, AUC ROC: 0.970 time: 0.00000\n",
      "Time: 2021-06-26T14:13:09.532621 \n",
      "\n"
     ]
    },
    {
     "data": {
      "application/vnd.jupyter.widget-view+json": {
       "model_id": "726a45fcf75c44418439f505e296c5a2",
       "version_major": 2,
       "version_minor": 0
      },
      "text/plain": [
       "  0%|                                                                                                         …"
      ]
     },
     "metadata": {},
     "output_type": "display_data"
    },
    {
     "name": "stdout",
     "output_type": "stream",
     "text": [
      "[RESULT]: Train. Epoch: 10, summary_loss: 0.08982, AUC_ROC: 0.962 time: 2048.13769\n"
     ]
    },
    {
     "data": {
      "application/vnd.jupyter.widget-view+json": {
       "model_id": "7cd07550010b42bb9e7652cbc10d04c4",
       "version_major": 2,
       "version_minor": 0
      },
      "text/plain": [
       "  0%|                                                                                                         …"
      ]
     },
     "metadata": {},
     "output_type": "display_data"
    },
    {
     "name": "stdout",
     "output_type": "stream",
     "text": [
      "[RESULT]: Val. Epoch: 10, summary_loss: 0.06191, AUC ROC: 0.970 time: 0.00000\n",
      "Time: 2021-06-26T14:53:19.130930 \n",
      "\n"
     ]
    },
    {
     "data": {
      "application/vnd.jupyter.widget-view+json": {
       "model_id": "b68584e1396a40bd8b4d3a8bbddc2c22",
       "version_major": 2,
       "version_minor": 0
      },
      "text/plain": [
       "  0%|                                                                                                         …"
      ]
     },
     "metadata": {},
     "output_type": "display_data"
    },
    {
     "name": "stdout",
     "output_type": "stream",
     "text": [
      "[RESULT]: Train. Epoch: 11, summary_loss: 0.08355, AUC_ROC: 0.967 time: 2053.28754\n"
     ]
    },
    {
     "data": {
      "application/vnd.jupyter.widget-view+json": {
       "model_id": "04ae8234c1b1454dac5c4a5a8d097775",
       "version_major": 2,
       "version_minor": 0
      },
      "text/plain": [
       "  0%|                                                                                                         …"
      ]
     },
     "metadata": {},
     "output_type": "display_data"
    },
    {
     "name": "stdout",
     "output_type": "stream",
     "text": [
      "[RESULT]: Val. Epoch: 11, summary_loss: 0.06046, AUC ROC: 0.972 time: 0.00000\n",
      "Time: 2021-06-26T15:33:31.081570 \n",
      "\n"
     ]
    },
    {
     "data": {
      "application/vnd.jupyter.widget-view+json": {
       "model_id": "cc91b4fc71634eb589dfb17856115a42",
       "version_major": 2,
       "version_minor": 0
      },
      "text/plain": [
       "  0%|                                                                                                         …"
      ]
     },
     "metadata": {},
     "output_type": "display_data"
    },
    {
     "name": "stdout",
     "output_type": "stream",
     "text": [
      "[RESULT]: Train. Epoch: 12, summary_loss: 0.08481, AUC_ROC: 0.966 time: 2051.26275\n"
     ]
    },
    {
     "data": {
      "application/vnd.jupyter.widget-view+json": {
       "model_id": "667129793a584659bd104e7e934e61cf",
       "version_major": 2,
       "version_minor": 0
      },
      "text/plain": [
       "  0%|                                                                                                         …"
      ]
     },
     "metadata": {},
     "output_type": "display_data"
    },
    {
     "name": "stdout",
     "output_type": "stream",
     "text": [
      "[RESULT]: Val. Epoch: 12, summary_loss: 0.06044, AUC ROC: 0.972 time: 0.00000\n",
      "Time: 2021-06-26T16:13:42.753159 \n",
      "\n"
     ]
    },
    {
     "data": {
      "application/vnd.jupyter.widget-view+json": {
       "model_id": "f5f09efb86f04ef1b301b039d8b3e5a7",
       "version_major": 2,
       "version_minor": 0
      },
      "text/plain": [
       "  0%|                                                                                                         …"
      ]
     },
     "metadata": {},
     "output_type": "display_data"
    },
    {
     "name": "stdout",
     "output_type": "stream",
     "text": [
      "[RESULT]: Train. Epoch: 13, summary_loss: 0.07881, AUC_ROC: 0.970 time: 2044.72234\n"
     ]
    },
    {
     "data": {
      "application/vnd.jupyter.widget-view+json": {
       "model_id": "c823da881689420483d456e9d8e51a12",
       "version_major": 2,
       "version_minor": 0
      },
      "text/plain": [
       "  0%|                                                                                                         …"
      ]
     },
     "metadata": {},
     "output_type": "display_data"
    },
    {
     "name": "stdout",
     "output_type": "stream",
     "text": [
      "[RESULT]: Val. Epoch: 13, summary_loss: 0.05937, AUC ROC: 0.976 time: 0.00000\n",
      "Time: 2021-06-26T16:53:47.802879 \n",
      "\n"
     ]
    },
    {
     "data": {
      "application/vnd.jupyter.widget-view+json": {
       "model_id": "3552123411e343f8a30fb2539560d968",
       "version_major": 2,
       "version_minor": 0
      },
      "text/plain": [
       "  0%|                                                                                                         …"
      ]
     },
     "metadata": {},
     "output_type": "display_data"
    },
    {
     "name": "stdout",
     "output_type": "stream",
     "text": [
      "[RESULT]: Train. Epoch: 14, summary_loss: 0.07752, AUC_ROC: 0.973 time: 2045.57581\n"
     ]
    },
    {
     "data": {
      "application/vnd.jupyter.widget-view+json": {
       "model_id": "d53d8c7f0e4e45158b96c31c3f09624c",
       "version_major": 2,
       "version_minor": 0
      },
      "text/plain": [
       "  0%|                                                                                                         …"
      ]
     },
     "metadata": {},
     "output_type": "display_data"
    },
    {
     "name": "stdout",
     "output_type": "stream",
     "text": [
      "[RESULT]: Val. Epoch: 14, summary_loss: 0.06620, AUC ROC: 0.972 time: 0.00000\n",
      "Time: 2021-06-26T17:33:56.911265 \n",
      "\n"
     ]
    },
    {
     "data": {
      "application/vnd.jupyter.widget-view+json": {
       "model_id": "40c9fbeed16a47d1a99f42974cb85772",
       "version_major": 2,
       "version_minor": 0
      },
      "text/plain": [
       "  0%|                                                                                                         …"
      ]
     },
     "metadata": {},
     "output_type": "display_data"
    },
    {
     "name": "stdout",
     "output_type": "stream",
     "text": [
      "[RESULT]: Train. Epoch: 15, summary_loss: 0.07392, AUC_ROC: 0.975 time: 2060.98182\n"
     ]
    },
    {
     "data": {
      "application/vnd.jupyter.widget-view+json": {
       "model_id": "eb2db5a6503b496993e993658b84eb84",
       "version_major": 2,
       "version_minor": 0
      },
      "text/plain": [
       "  0%|                                                                                                         …"
      ]
     },
     "metadata": {},
     "output_type": "display_data"
    },
    {
     "name": "stdout",
     "output_type": "stream",
     "text": [
      "[RESULT]: Val. Epoch: 15, summary_loss: 0.06810, AUC ROC: 0.972 time: 0.00000\n",
      "Time: 2021-06-26T18:14:17.105649 \n",
      "\n"
     ]
    },
    {
     "data": {
      "application/vnd.jupyter.widget-view+json": {
       "model_id": "c853a56a01864ab686a9cee47ed56a0b",
       "version_major": 2,
       "version_minor": 0
      },
      "text/plain": [
       "  0%|                                                                                                         …"
      ]
     },
     "metadata": {},
     "output_type": "display_data"
    },
    {
     "name": "stdout",
     "output_type": "stream",
     "text": [
      "[RESULT]: Train. Epoch: 16, summary_loss: 0.07093, AUC_ROC: 0.977 time: 2047.62993\n"
     ]
    },
    {
     "data": {
      "application/vnd.jupyter.widget-view+json": {
       "model_id": "1477fb33254040e3bbc631499268e2cd",
       "version_major": 2,
       "version_minor": 0
      },
      "text/plain": [
       "  0%|                                                                                                         …"
      ]
     },
     "metadata": {},
     "output_type": "display_data"
    },
    {
     "name": "stdout",
     "output_type": "stream",
     "text": [
      "[RESULT]: Val. Epoch: 16, summary_loss: 0.06671, AUC ROC: 0.972 time: 0.00000\n",
      "Time: 2021-06-26T18:54:28.645733 \n",
      "\n"
     ]
    },
    {
     "data": {
      "application/vnd.jupyter.widget-view+json": {
       "model_id": "cc30bbc6e34b40939b8e6103ad5ef15a",
       "version_major": 2,
       "version_minor": 0
      },
      "text/plain": [
       "  0%|                                                                                                         …"
      ]
     },
     "metadata": {},
     "output_type": "display_data"
    },
    {
     "name": "stdout",
     "output_type": "stream",
     "text": [
      "[RESULT]: Train. Epoch: 17, summary_loss: 0.06743, AUC_ROC: 0.979 time: 2048.08951\n"
     ]
    },
    {
     "data": {
      "application/vnd.jupyter.widget-view+json": {
       "model_id": "47d6f125928e4b34ae565b004f1dea56",
       "version_major": 2,
       "version_minor": 0
      },
      "text/plain": [
       "  0%|                                                                                                         …"
      ]
     },
     "metadata": {},
     "output_type": "display_data"
    },
    {
     "name": "stdout",
     "output_type": "stream",
     "text": [
      "[RESULT]: Val. Epoch: 17, summary_loss: 0.07432, AUC ROC: 0.972 time: 0.00000\n",
      "Time: 2021-06-26T19:34:38.508379 \n",
      "\n"
     ]
    },
    {
     "data": {
      "application/vnd.jupyter.widget-view+json": {
       "model_id": "90e40721837240b5b2641b19e626f1a3",
       "version_major": 2,
       "version_minor": 0
      },
      "text/plain": [
       "  0%|                                                                                                         …"
      ]
     },
     "metadata": {},
     "output_type": "display_data"
    },
    {
     "name": "stdout",
     "output_type": "stream",
     "text": [
      "[RESULT]: Train. Epoch: 18, summary_loss: 0.06475, AUC_ROC: 0.980 time: 2034.01584\n"
     ]
    },
    {
     "data": {
      "application/vnd.jupyter.widget-view+json": {
       "model_id": "41d54e90a1d3485bb3a3b08fb9d82e0d",
       "version_major": 2,
       "version_minor": 0
      },
      "text/plain": [
       "  0%|                                                                                                         …"
      ]
     },
     "metadata": {},
     "output_type": "display_data"
    },
    {
     "name": "stdout",
     "output_type": "stream",
     "text": [
      "[RESULT]: Val. Epoch: 18, summary_loss: 0.07210, AUC ROC: 0.972 time: 0.00000\n",
      "Time: 2021-06-26T20:14:35.019552 \n",
      "\n"
     ]
    },
    {
     "data": {
      "application/vnd.jupyter.widget-view+json": {
       "model_id": "3d9ab0436b394b04847a210c5ce6880f",
       "version_major": 2,
       "version_minor": 0
      },
      "text/plain": [
       "  0%|                                                                                                         …"
      ]
     },
     "metadata": {},
     "output_type": "display_data"
    },
    {
     "name": "stdout",
     "output_type": "stream",
     "text": [
      "[RESULT]: Train. Epoch: 19, summary_loss: 0.06315, AUC_ROC: 0.982 time: 2039.01460\n"
     ]
    },
    {
     "data": {
      "application/vnd.jupyter.widget-view+json": {
       "model_id": "60066bbe36b04d07a13eec1ffd054a43",
       "version_major": 2,
       "version_minor": 0
      },
      "text/plain": [
       "  0%|                                                                                                         …"
      ]
     },
     "metadata": {},
     "output_type": "display_data"
    },
    {
     "name": "stdout",
     "output_type": "stream",
     "text": [
      "[RESULT]: Val. Epoch: 19, summary_loss: 0.07431, AUC ROC: 0.971 time: 0.00000\n",
      "Time: 2021-06-26T20:54:34.250937 \n",
      "\n"
     ]
    },
    {
     "data": {
      "application/vnd.jupyter.widget-view+json": {
       "model_id": "de0e3d7b27b442bc9866bef368feae58",
       "version_major": 2,
       "version_minor": 0
      },
      "text/plain": [
       "  0%|                                                                                                         …"
      ]
     },
     "metadata": {},
     "output_type": "display_data"
    },
    {
     "name": "stdout",
     "output_type": "stream",
     "text": [
      "[RESULT]: Train. Epoch: 20, summary_loss: 0.06255, AUC_ROC: 0.982 time: 2052.00231\n"
     ]
    },
    {
     "data": {
      "application/vnd.jupyter.widget-view+json": {
       "model_id": "cfc755f6f6f3495c9cff3b7907529c6d",
       "version_major": 2,
       "version_minor": 0
      },
      "text/plain": [
       "  0%|                                                                                                         …"
      ]
     },
     "metadata": {},
     "output_type": "display_data"
    },
    {
     "name": "stdout",
     "output_type": "stream",
     "text": [
      "[RESULT]: Val. Epoch: 20, summary_loss: 0.07204, AUC ROC: 0.972 time: 0.00000\n",
      "Time: 2021-06-26T21:34:49.181662 \n",
      "\n"
     ]
    },
    {
     "data": {
      "application/vnd.jupyter.widget-view+json": {
       "model_id": "dc7dd2ef09b341bf95dc76219a31b03a",
       "version_major": 2,
       "version_minor": 0
      },
      "text/plain": [
       "  0%|                                                                                                         …"
      ]
     },
     "metadata": {},
     "output_type": "display_data"
    },
    {
     "name": "stdout",
     "output_type": "stream",
     "text": [
      "[RESULT]: Train. Epoch: 21, summary_loss: 0.06144, AUC_ROC: 0.983 time: 2043.29330\n"
     ]
    },
    {
     "data": {
      "application/vnd.jupyter.widget-view+json": {
       "model_id": "7b3fce3c622a4589b2058e71aa81ba13",
       "version_major": 2,
       "version_minor": 0
      },
      "text/plain": [
       "  0%|                                                                                                         …"
      ]
     },
     "metadata": {},
     "output_type": "display_data"
    },
    {
     "name": "stdout",
     "output_type": "stream",
     "text": [
      "[RESULT]: Val. Epoch: 21, summary_loss: 0.07409, AUC ROC: 0.971 time: 0.00000\n",
      "Time: 2021-06-26T22:14:52.795813 \n",
      "\n"
     ]
    },
    {
     "data": {
      "application/vnd.jupyter.widget-view+json": {
       "model_id": "ff65d634ab514a82828a3c2cab84aeeb",
       "version_major": 2,
       "version_minor": 0
      },
      "text/plain": [
       "  0%|                                                                                                         …"
      ]
     },
     "metadata": {},
     "output_type": "display_data"
    },
    {
     "name": "stdout",
     "output_type": "stream",
     "text": [
      "[RESULT]: Train. Epoch: 22, summary_loss: 0.06138, AUC_ROC: 0.982 time: 2044.24603\n"
     ]
    },
    {
     "data": {
      "application/vnd.jupyter.widget-view+json": {
       "model_id": "56fa37baeaed4523865cadf8ac58eee8",
       "version_major": 2,
       "version_minor": 0
      },
      "text/plain": [
       "  0%|                                                                                                         …"
      ]
     },
     "metadata": {},
     "output_type": "display_data"
    },
    {
     "name": "stdout",
     "output_type": "stream",
     "text": [
      "[RESULT]: Val. Epoch: 22, summary_loss: 0.07463, AUC ROC: 0.972 time: 0.00000\n",
      "Time: 2021-06-26T22:54:58.963546 \n",
      "\n"
     ]
    },
    {
     "data": {
      "application/vnd.jupyter.widget-view+json": {
       "model_id": "3561c1cb38c143c88af526fb55a22e76",
       "version_major": 2,
       "version_minor": 0
      },
      "text/plain": [
       "  0%|                                                                                                         …"
      ]
     },
     "metadata": {},
     "output_type": "display_data"
    },
    {
     "name": "stdout",
     "output_type": "stream",
     "text": [
      "[RESULT]: Train. Epoch: 23, summary_loss: 0.05937, AUC_ROC: 0.984 time: 2037.87712\n"
     ]
    },
    {
     "data": {
      "application/vnd.jupyter.widget-view+json": {
       "model_id": "b37b9f8603b34be9be8810bc53b46273",
       "version_major": 2,
       "version_minor": 0
      },
      "text/plain": [
       "  0%|                                                                                                         …"
      ]
     },
     "metadata": {},
     "output_type": "display_data"
    },
    {
     "name": "stdout",
     "output_type": "stream",
     "text": [
      "[RESULT]: Val. Epoch: 23, summary_loss: 0.07557, AUC ROC: 0.971 time: 0.00000\n",
      "Time: 2021-06-26T23:34:55.454959 \n",
      "\n"
     ]
    },
    {
     "data": {
      "application/vnd.jupyter.widget-view+json": {
       "model_id": "d949ba925a664fd5b41f8ef40dfc7b63",
       "version_major": 2,
       "version_minor": 0
      },
      "text/plain": [
       "  0%|                                                                                                         …"
      ]
     },
     "metadata": {},
     "output_type": "display_data"
    },
    {
     "name": "stdout",
     "output_type": "stream",
     "text": [
      "[RESULT]: Train. Epoch: 24, summary_loss: 0.05900, AUC_ROC: 0.984 time: 2044.06324\n"
     ]
    },
    {
     "data": {
      "application/vnd.jupyter.widget-view+json": {
       "model_id": "9eb02a49e21342c29df1a9c340c87f58",
       "version_major": 2,
       "version_minor": 0
      },
      "text/plain": [
       "  0%|                                                                                                         …"
      ]
     },
     "metadata": {},
     "output_type": "display_data"
    },
    {
     "name": "stdout",
     "output_type": "stream",
     "text": [
      "[RESULT]: Val. Epoch: 24, summary_loss: 0.07417, AUC ROC: 0.972 time: 0.00000\n",
      "START NEW FOLD\n",
      "Time: 2021-06-27T00:15:00.707220 \n",
      "\n"
     ]
    },
    {
     "data": {
      "application/vnd.jupyter.widget-view+json": {
       "model_id": "0c4d97cfd56e4dad9b6be93040a6f698",
       "version_major": 2,
       "version_minor": 0
      },
      "text/plain": [
       "  0%|                                                                                                         …"
      ]
     },
     "metadata": {},
     "output_type": "display_data"
    },
    {
     "name": "stdout",
     "output_type": "stream",
     "text": [
      "[RESULT]: Train. Epoch: 0, summary_loss: 0.23317, AUC_ROC: 0.764 time: 1937.10500\n"
     ]
    },
    {
     "data": {
      "application/vnd.jupyter.widget-view+json": {
       "model_id": "b3c9359f4a2e4cca89b6dd6fd6160576",
       "version_major": 2,
       "version_minor": 0
      },
      "text/plain": [
       "  0%|                                                                                                         …"
      ]
     },
     "metadata": {},
     "output_type": "display_data"
    },
    {
     "name": "stdout",
     "output_type": "stream",
     "text": [
      "[RESULT]: Val. Epoch: 0, summary_loss: 0.13210, AUC ROC: 0.926 time: 0.00000\n",
      "Time: 2021-06-27T00:53:18.553125 \n",
      "\n"
     ]
    },
    {
     "data": {
      "application/vnd.jupyter.widget-view+json": {
       "model_id": "98f4553b62fa478b929d15bd1d38af95",
       "version_major": 2,
       "version_minor": 0
      },
      "text/plain": [
       "  0%|                                                                                                         …"
      ]
     },
     "metadata": {},
     "output_type": "display_data"
    },
    {
     "name": "stdout",
     "output_type": "stream",
     "text": [
      "[RESULT]: Train. Epoch: 1, summary_loss: 0.15969, AUC_ROC: 0.890 time: 2043.93999\n"
     ]
    },
    {
     "data": {
      "application/vnd.jupyter.widget-view+json": {
       "model_id": "87c9ad59d01e49ffaeb84f16f83fc6de",
       "version_major": 2,
       "version_minor": 0
      },
      "text/plain": [
       "  0%|                                                                                                         …"
      ]
     },
     "metadata": {},
     "output_type": "display_data"
    },
    {
     "name": "stdout",
     "output_type": "stream",
     "text": [
      "[RESULT]: Val. Epoch: 1, summary_loss: 0.10808, AUC ROC: 0.947 time: 0.00000\n",
      "Time: 2021-06-27T01:33:20.030879 \n",
      "\n"
     ]
    },
    {
     "data": {
      "application/vnd.jupyter.widget-view+json": {
       "model_id": "96523fd343344dc4b7c5bfb8fd5635a1",
       "version_major": 2,
       "version_minor": 0
      },
      "text/plain": [
       "  0%|                                                                                                         …"
      ]
     },
     "metadata": {},
     "output_type": "display_data"
    },
    {
     "name": "stdout",
     "output_type": "stream",
     "text": [
      "[RESULT]: Train. Epoch: 2, summary_loss: 0.14054, AUC_ROC: 0.913 time: 2047.94621\n"
     ]
    },
    {
     "data": {
      "application/vnd.jupyter.widget-view+json": {
       "model_id": "15c51d6ba8ed4d3ea7bd42666670a601",
       "version_major": 2,
       "version_minor": 0
      },
      "text/plain": [
       "  0%|                                                                                                         …"
      ]
     },
     "metadata": {},
     "output_type": "display_data"
    },
    {
     "name": "stdout",
     "output_type": "stream",
     "text": [
      "[RESULT]: Val. Epoch: 2, summary_loss: 0.09174, AUC ROC: 0.954 time: 0.00000\n",
      "Time: 2021-06-27T02:13:30.271342 \n",
      "\n"
     ]
    },
    {
     "data": {
      "application/vnd.jupyter.widget-view+json": {
       "model_id": "1e5f6e1a7f894018a66a7601c293f990",
       "version_major": 2,
       "version_minor": 0
      },
      "text/plain": [
       "  0%|                                                                                                         …"
      ]
     },
     "metadata": {},
     "output_type": "display_data"
    },
    {
     "name": "stdout",
     "output_type": "stream",
     "text": [
      "[RESULT]: Train. Epoch: 3, summary_loss: 0.12762, AUC_ROC: 0.927 time: 2051.68300\n"
     ]
    },
    {
     "data": {
      "application/vnd.jupyter.widget-view+json": {
       "model_id": "2bb74c3f29c34abbbdccf46a198f2114",
       "version_major": 2,
       "version_minor": 0
      },
      "text/plain": [
       "  0%|                                                                                                         …"
      ]
     },
     "metadata": {},
     "output_type": "display_data"
    },
    {
     "name": "stdout",
     "output_type": "stream",
     "text": [
      "[RESULT]: Val. Epoch: 3, summary_loss: 0.08484, AUC ROC: 0.960 time: 0.00000\n",
      "Time: 2021-06-27T02:53:40.364726 \n",
      "\n"
     ]
    },
    {
     "data": {
      "application/vnd.jupyter.widget-view+json": {
       "model_id": "9b30fa1d53be41b7bb31b6dbef32e7f5",
       "version_major": 2,
       "version_minor": 0
      },
      "text/plain": [
       "  0%|                                                                                                         …"
      ]
     },
     "metadata": {},
     "output_type": "display_data"
    },
    {
     "name": "stdout",
     "output_type": "stream",
     "text": [
      "[RESULT]: Train. Epoch: 4, summary_loss: 0.12061, AUC_ROC: 0.932 time: 2051.94524\n"
     ]
    },
    {
     "data": {
      "application/vnd.jupyter.widget-view+json": {
       "model_id": "9aad6c7d470d4750ab0c3f07fcd123aa",
       "version_major": 2,
       "version_minor": 0
      },
      "text/plain": [
       "  0%|                                                                                                         …"
      ]
     },
     "metadata": {},
     "output_type": "display_data"
    },
    {
     "name": "stdout",
     "output_type": "stream",
     "text": [
      "[RESULT]: Val. Epoch: 4, summary_loss: 0.07724, AUC ROC: 0.967 time: 0.00000\n",
      "Time: 2021-06-27T03:33:54.645493 \n",
      "\n"
     ]
    },
    {
     "data": {
      "application/vnd.jupyter.widget-view+json": {
       "model_id": "1c6a691e4a4b4b7b858466488af7d3de",
       "version_major": 2,
       "version_minor": 0
      },
      "text/plain": [
       "  0%|                                                                                                         …"
      ]
     },
     "metadata": {},
     "output_type": "display_data"
    },
    {
     "name": "stdout",
     "output_type": "stream",
     "text": [
      "[RESULT]: Train. Epoch: 5, summary_loss: 0.11303, AUC_ROC: 0.941 time: 2062.24661\n"
     ]
    },
    {
     "data": {
      "application/vnd.jupyter.widget-view+json": {
       "model_id": "ab6dbe2de9e34509b21e7642d305a405",
       "version_major": 2,
       "version_minor": 0
      },
      "text/plain": [
       "  0%|                                                                                                         …"
      ]
     },
     "metadata": {},
     "output_type": "display_data"
    },
    {
     "name": "stdout",
     "output_type": "stream",
     "text": [
      "[RESULT]: Val. Epoch: 5, summary_loss: 0.07215, AUC ROC: 0.966 time: 0.00000\n",
      "Time: 2021-06-27T04:14:19.736479 \n",
      "\n"
     ]
    },
    {
     "data": {
      "application/vnd.jupyter.widget-view+json": {
       "model_id": "c41dd1d2cd6b4ca0a467fecf24ef24c5",
       "version_major": 2,
       "version_minor": 0
      },
      "text/plain": [
       "  0%|                                                                                                         …"
      ]
     },
     "metadata": {},
     "output_type": "display_data"
    },
    {
     "name": "stdout",
     "output_type": "stream",
     "text": [
      "[RESULT]: Train. Epoch: 6, summary_loss: 0.10784, AUC_ROC: 0.944 time: 2050.82597\n"
     ]
    },
    {
     "data": {
      "application/vnd.jupyter.widget-view+json": {
       "model_id": "4e13a6c621ad4278bebd89994d8da3c2",
       "version_major": 2,
       "version_minor": 0
      },
      "text/plain": [
       "  0%|                                                                                                         …"
      ]
     },
     "metadata": {},
     "output_type": "display_data"
    },
    {
     "name": "stdout",
     "output_type": "stream",
     "text": [
      "[RESULT]: Val. Epoch: 6, summary_loss: 0.07297, AUC ROC: 0.965 time: 0.00000\n",
      "Time: 2021-06-27T04:54:34.332546 \n",
      "\n"
     ]
    },
    {
     "data": {
      "application/vnd.jupyter.widget-view+json": {
       "model_id": "14a17e6d87e842fc9983294a1fd4d141",
       "version_major": 2,
       "version_minor": 0
      },
      "text/plain": [
       "  0%|                                                                                                         …"
      ]
     },
     "metadata": {},
     "output_type": "display_data"
    },
    {
     "name": "stdout",
     "output_type": "stream",
     "text": [
      "[RESULT]: Train. Epoch: 7, summary_loss: 0.10636, AUC_ROC: 0.946 time: 2045.28286\n"
     ]
    },
    {
     "data": {
      "application/vnd.jupyter.widget-view+json": {
       "model_id": "9835c43140a34d1c9faf4314cbbad783",
       "version_major": 2,
       "version_minor": 0
      },
      "text/plain": [
       "  0%|                                                                                                         …"
      ]
     },
     "metadata": {},
     "output_type": "display_data"
    },
    {
     "name": "stdout",
     "output_type": "stream",
     "text": [
      "[RESULT]: Val. Epoch: 7, summary_loss: 0.07003, AUC ROC: 0.965 time: 0.00000\n",
      "Time: 2021-06-27T05:34:38.659937 \n",
      "\n"
     ]
    },
    {
     "data": {
      "application/vnd.jupyter.widget-view+json": {
       "model_id": "7a39acf735294ea4adf76e25881e6907",
       "version_major": 2,
       "version_minor": 0
      },
      "text/plain": [
       "  0%|                                                                                                         …"
      ]
     },
     "metadata": {},
     "output_type": "display_data"
    },
    {
     "name": "stdout",
     "output_type": "stream",
     "text": [
      "[RESULT]: Train. Epoch: 8, summary_loss: 0.10230, AUC_ROC: 0.951 time: 2048.12795\n"
     ]
    },
    {
     "data": {
      "application/vnd.jupyter.widget-view+json": {
       "model_id": "4f5b8e5237324194a85241e3e1012f47",
       "version_major": 2,
       "version_minor": 0
      },
      "text/plain": [
       "  0%|                                                                                                         …"
      ]
     },
     "metadata": {},
     "output_type": "display_data"
    },
    {
     "name": "stdout",
     "output_type": "stream",
     "text": [
      "[RESULT]: Val. Epoch: 8, summary_loss: 0.07261, AUC ROC: 0.972 time: 0.00000\n",
      "Time: 2021-06-27T06:14:50.364432 \n",
      "\n"
     ]
    },
    {
     "data": {
      "application/vnd.jupyter.widget-view+json": {
       "model_id": "bfd0a1a80afc440487058fbd60a935ca",
       "version_major": 2,
       "version_minor": 0
      },
      "text/plain": [
       "  0%|                                                                                                         …"
      ]
     },
     "metadata": {},
     "output_type": "display_data"
    },
    {
     "name": "stdout",
     "output_type": "stream",
     "text": [
      "[RESULT]: Train. Epoch: 9, summary_loss: 0.09703, AUC_ROC: 0.954 time: 2058.66278\n"
     ]
    },
    {
     "data": {
      "application/vnd.jupyter.widget-view+json": {
       "model_id": "153fec20fd684f93a9023c9b5af6d4ad",
       "version_major": 2,
       "version_minor": 0
      },
      "text/plain": [
       "  0%|                                                                                                         …"
      ]
     },
     "metadata": {},
     "output_type": "display_data"
    },
    {
     "name": "stdout",
     "output_type": "stream",
     "text": [
      "[RESULT]: Val. Epoch: 9, summary_loss: 0.07132, AUC ROC: 0.968 time: 0.00000\n",
      "Time: 2021-06-27T06:55:06.289431 \n",
      "\n"
     ]
    },
    {
     "data": {
      "application/vnd.jupyter.widget-view+json": {
       "model_id": "18cb902126294b3aac2013aabdc73c4e",
       "version_major": 2,
       "version_minor": 0
      },
      "text/plain": [
       "  0%|                                                                                                         …"
      ]
     },
     "metadata": {},
     "output_type": "display_data"
    },
    {
     "name": "stdout",
     "output_type": "stream",
     "text": [
      "[RESULT]: Train. Epoch: 10, summary_loss: 0.08874, AUC_ROC: 0.964 time: 2047.70919\n"
     ]
    },
    {
     "data": {
      "application/vnd.jupyter.widget-view+json": {
       "model_id": "ca49dfbf49fb494fae3afc2f263a0407",
       "version_major": 2,
       "version_minor": 0
      },
      "text/plain": [
       "  0%|                                                                                                         …"
      ]
     },
     "metadata": {},
     "output_type": "display_data"
    },
    {
     "name": "stdout",
     "output_type": "stream",
     "text": [
      "[RESULT]: Val. Epoch: 10, summary_loss: 0.07131, AUC ROC: 0.966 time: 0.00000\n",
      "Time: 2021-06-27T07:35:14.171408 \n",
      "\n"
     ]
    },
    {
     "data": {
      "application/vnd.jupyter.widget-view+json": {
       "model_id": "8a91a3ffc0534fabafe5bf81644b0e04",
       "version_major": 2,
       "version_minor": 0
      },
      "text/plain": [
       "  0%|                                                                                                         …"
      ]
     },
     "metadata": {},
     "output_type": "display_data"
    },
    {
     "name": "stdout",
     "output_type": "stream",
     "text": [
      "[RESULT]: Train. Epoch: 11, summary_loss: 0.08371, AUC_ROC: 0.965 time: 2052.65553\n"
     ]
    },
    {
     "data": {
      "application/vnd.jupyter.widget-view+json": {
       "model_id": "84207d964f8348aea800dc0a3bf1d386",
       "version_major": 2,
       "version_minor": 0
      },
      "text/plain": [
       "  0%|                                                                                                         …"
      ]
     },
     "metadata": {},
     "output_type": "display_data"
    },
    {
     "name": "stdout",
     "output_type": "stream",
     "text": [
      "[RESULT]: Val. Epoch: 11, summary_loss: 0.07015, AUC ROC: 0.962 time: 0.00000\n",
      "Time: 2021-06-27T08:15:25.054137 \n",
      "\n"
     ]
    },
    {
     "data": {
      "application/vnd.jupyter.widget-view+json": {
       "model_id": "73e9b383470b4c269914e09a2797afed",
       "version_major": 2,
       "version_minor": 0
      },
      "text/plain": [
       "  0%|                                                                                                         …"
      ]
     },
     "metadata": {},
     "output_type": "display_data"
    },
    {
     "name": "stdout",
     "output_type": "stream",
     "text": [
      "[RESULT]: Train. Epoch: 12, summary_loss: 0.07776, AUC_ROC: 0.972 time: 2053.75874\n"
     ]
    },
    {
     "data": {
      "application/vnd.jupyter.widget-view+json": {
       "model_id": "96a68c7662ee47fc914abc94c9a697bf",
       "version_major": 2,
       "version_minor": 0
      },
      "text/plain": [
       "  0%|                                                                                                         …"
      ]
     },
     "metadata": {},
     "output_type": "display_data"
    },
    {
     "name": "stdout",
     "output_type": "stream",
     "text": [
      "[RESULT]: Val. Epoch: 12, summary_loss: 0.07035, AUC ROC: 0.964 time: 0.00000\n",
      "Time: 2021-06-27T08:55:40.320491 \n",
      "\n"
     ]
    },
    {
     "data": {
      "application/vnd.jupyter.widget-view+json": {
       "model_id": "5eefbeed0cfb42b19e8b72aacb06942a",
       "version_major": 2,
       "version_minor": 0
      },
      "text/plain": [
       "  0%|                                                                                                         …"
      ]
     },
     "metadata": {},
     "output_type": "display_data"
    },
    {
     "name": "stdout",
     "output_type": "stream",
     "text": [
      "[RESULT]: Train. Epoch: 13, summary_loss: 0.07439, AUC_ROC: 0.974 time: 2057.90532\n"
     ]
    },
    {
     "data": {
      "application/vnd.jupyter.widget-view+json": {
       "model_id": "e68f6cd9a68a4f5caa9db2c09bb03ca5",
       "version_major": 2,
       "version_minor": 0
      },
      "text/plain": [
       "  0%|                                                                                                         …"
      ]
     },
     "metadata": {},
     "output_type": "display_data"
    },
    {
     "name": "stdout",
     "output_type": "stream",
     "text": [
      "[RESULT]: Val. Epoch: 13, summary_loss: 0.06833, AUC ROC: 0.967 time: 0.00000\n",
      "Time: 2021-06-27T09:35:57.157309 \n",
      "\n"
     ]
    },
    {
     "data": {
      "application/vnd.jupyter.widget-view+json": {
       "model_id": "018c07912e9f44edb3eec068b8bb2111",
       "version_major": 2,
       "version_minor": 0
      },
      "text/plain": [
       "  0%|                                                                                                         …"
      ]
     },
     "metadata": {},
     "output_type": "display_data"
    },
    {
     "name": "stdout",
     "output_type": "stream",
     "text": [
      "[RESULT]: Train. Epoch: 14, summary_loss: 0.07131, AUC_ROC: 0.976 time: 2056.34754\n"
     ]
    },
    {
     "data": {
      "application/vnd.jupyter.widget-view+json": {
       "model_id": "617a115451ff465eb757f80f3aa11421",
       "version_major": 2,
       "version_minor": 0
      },
      "text/plain": [
       "  0%|                                                                                                         …"
      ]
     },
     "metadata": {},
     "output_type": "display_data"
    },
    {
     "name": "stdout",
     "output_type": "stream",
     "text": [
      "[RESULT]: Val. Epoch: 14, summary_loss: 0.07841, AUC ROC: 0.965 time: 0.00000\n",
      "Time: 2021-06-27T10:16:16.169186 \n",
      "\n"
     ]
    },
    {
     "data": {
      "application/vnd.jupyter.widget-view+json": {
       "model_id": "d1f17fe81e3e4ed796d7efbd6fc50273",
       "version_major": 2,
       "version_minor": 0
      },
      "text/plain": [
       "  0%|                                                                                                         …"
      ]
     },
     "metadata": {},
     "output_type": "display_data"
    },
    {
     "name": "stdout",
     "output_type": "stream",
     "text": [
      "[RESULT]: Train. Epoch: 15, summary_loss: 0.07472, AUC_ROC: 0.974 time: 2059.50556\n"
     ]
    },
    {
     "data": {
      "application/vnd.jupyter.widget-view+json": {
       "model_id": "7d7b02255493406081db2845191955af",
       "version_major": 2,
       "version_minor": 0
      },
      "text/plain": [
       "  0%|                                                                                                         …"
      ]
     },
     "metadata": {},
     "output_type": "display_data"
    },
    {
     "name": "stdout",
     "output_type": "stream",
     "text": [
      "[RESULT]: Val. Epoch: 15, summary_loss: 0.07436, AUC ROC: 0.964 time: 0.00000\n",
      "Time: 2021-06-27T10:56:32.930402 \n",
      "\n"
     ]
    },
    {
     "data": {
      "application/vnd.jupyter.widget-view+json": {
       "model_id": "c4d17d82d1d742edbffe045a4e9e6520",
       "version_major": 2,
       "version_minor": 0
      },
      "text/plain": [
       "  0%|                                                                                                         …"
      ]
     },
     "metadata": {},
     "output_type": "display_data"
    },
    {
     "name": "stdout",
     "output_type": "stream",
     "text": [
      "[RESULT]: Train. Epoch: 16, summary_loss: 0.07050, AUC_ROC: 0.977 time: 2047.61005\n"
     ]
    },
    {
     "data": {
      "application/vnd.jupyter.widget-view+json": {
       "model_id": "cede7f3ebcd94060a953756cef77a878",
       "version_major": 2,
       "version_minor": 0
      },
      "text/plain": [
       "  0%|                                                                                                         …"
      ]
     },
     "metadata": {},
     "output_type": "display_data"
    },
    {
     "name": "stdout",
     "output_type": "stream",
     "text": [
      "[RESULT]: Val. Epoch: 16, summary_loss: 0.07366, AUC ROC: 0.964 time: 0.00000\n",
      "Time: 2021-06-27T11:36:44.312041 \n",
      "\n"
     ]
    },
    {
     "data": {
      "application/vnd.jupyter.widget-view+json": {
       "model_id": "c224968982874c8ea812fe7b3bbc351c",
       "version_major": 2,
       "version_minor": 0
      },
      "text/plain": [
       "  0%|                                                                                                         …"
      ]
     },
     "metadata": {},
     "output_type": "display_data"
    },
    {
     "name": "stdout",
     "output_type": "stream",
     "text": [
      "[RESULT]: Train. Epoch: 17, summary_loss: 0.06821, AUC_ROC: 0.979 time: 2061.55743\n"
     ]
    },
    {
     "data": {
      "application/vnd.jupyter.widget-view+json": {
       "model_id": "49fc3380a7594c4d9af7426e0fc2ee85",
       "version_major": 2,
       "version_minor": 0
      },
      "text/plain": [
       "  0%|                                                                                                         …"
      ]
     },
     "metadata": {},
     "output_type": "display_data"
    },
    {
     "name": "stdout",
     "output_type": "stream",
     "text": [
      "[RESULT]: Val. Epoch: 17, summary_loss: 0.07595, AUC ROC: 0.965 time: 0.00000\n",
      "Time: 2021-06-27T12:17:03.690229 \n",
      "\n"
     ]
    },
    {
     "data": {
      "application/vnd.jupyter.widget-view+json": {
       "model_id": "263d4b193d2b4b67a5e88cae2c6de8a5",
       "version_major": 2,
       "version_minor": 0
      },
      "text/plain": [
       "  0%|                                                                                                         …"
      ]
     },
     "metadata": {},
     "output_type": "display_data"
    },
    {
     "name": "stdout",
     "output_type": "stream",
     "text": [
      "[RESULT]: Train. Epoch: 18, summary_loss: 0.06590, AUC_ROC: 0.979 time: 2050.26657\n"
     ]
    },
    {
     "data": {
      "application/vnd.jupyter.widget-view+json": {
       "model_id": "78c7ba46b5084e4baa55abad988b17a6",
       "version_major": 2,
       "version_minor": 0
      },
      "text/plain": [
       "  0%|                                                                                                         …"
      ]
     },
     "metadata": {},
     "output_type": "display_data"
    },
    {
     "name": "stdout",
     "output_type": "stream",
     "text": [
      "[RESULT]: Val. Epoch: 18, summary_loss: 0.08216, AUC ROC: 0.963 time: 0.00000\n",
      "Time: 2021-06-27T12:57:18.851637 \n",
      "\n"
     ]
    },
    {
     "data": {
      "application/vnd.jupyter.widget-view+json": {
       "model_id": "e76ed73341974ca6b5a6867a1b1744df",
       "version_major": 2,
       "version_minor": 0
      },
      "text/plain": [
       "  0%|                                                                                                         …"
      ]
     },
     "metadata": {},
     "output_type": "display_data"
    },
    {
     "name": "stdout",
     "output_type": "stream",
     "text": [
      "[RESULT]: Train. Epoch: 19, summary_loss: 0.06653, AUC_ROC: 0.980 time: 2050.04380\n"
     ]
    },
    {
     "data": {
      "application/vnd.jupyter.widget-view+json": {
       "model_id": "d0cd7d7a89934302aba6758e0b7e0596",
       "version_major": 2,
       "version_minor": 0
      },
      "text/plain": [
       "  0%|                                                                                                         …"
      ]
     },
     "metadata": {},
     "output_type": "display_data"
    },
    {
     "name": "stdout",
     "output_type": "stream",
     "text": [
      "[RESULT]: Val. Epoch: 19, summary_loss: 0.07130, AUC ROC: 0.966 time: 0.00000\n",
      "Time: 2021-06-27T13:37:29.687920 \n",
      "\n"
     ]
    },
    {
     "data": {
      "application/vnd.jupyter.widget-view+json": {
       "model_id": "89bfe72d367f485aa87ee6a3f6efefc3",
       "version_major": 2,
       "version_minor": 0
      },
      "text/plain": [
       "  0%|                                                                                                         …"
      ]
     },
     "metadata": {},
     "output_type": "display_data"
    },
    {
     "name": "stdout",
     "output_type": "stream",
     "text": [
      "[RESULT]: Train. Epoch: 20, summary_loss: 0.06542, AUC_ROC: 0.980 time: 2051.95671\n"
     ]
    },
    {
     "data": {
      "application/vnd.jupyter.widget-view+json": {
       "model_id": "546918407a6e4eecbe219eb6da4eadb5",
       "version_major": 2,
       "version_minor": 0
      },
      "text/plain": [
       "  0%|                                                                                                         …"
      ]
     },
     "metadata": {},
     "output_type": "display_data"
    },
    {
     "name": "stdout",
     "output_type": "stream",
     "text": [
      "[RESULT]: Val. Epoch: 20, summary_loss: 0.07846, AUC ROC: 0.965 time: 0.00000\n",
      "Time: 2021-06-27T14:17:43.946397 \n",
      "\n"
     ]
    },
    {
     "data": {
      "application/vnd.jupyter.widget-view+json": {
       "model_id": "9e7a6bbb99f942ee903ba1e8b7bac5b1",
       "version_major": 2,
       "version_minor": 0
      },
      "text/plain": [
       "  0%|                                                                                                         …"
      ]
     },
     "metadata": {},
     "output_type": "display_data"
    },
    {
     "name": "stdout",
     "output_type": "stream",
     "text": [
      "[RESULT]: Train. Epoch: 21, summary_loss: 0.06348, AUC_ROC: 0.982 time: 2043.69544\n"
     ]
    },
    {
     "data": {
      "application/vnd.jupyter.widget-view+json": {
       "model_id": "4eb88189787b4b23a99d7fa77f12edde",
       "version_major": 2,
       "version_minor": 0
      },
      "text/plain": [
       "  0%|                                                                                                         …"
      ]
     },
     "metadata": {},
     "output_type": "display_data"
    },
    {
     "name": "stdout",
     "output_type": "stream",
     "text": [
      "[RESULT]: Val. Epoch: 21, summary_loss: 0.07443, AUC ROC: 0.965 time: 0.00000\n",
      "Time: 2021-06-27T14:57:47.520552 \n",
      "\n"
     ]
    },
    {
     "data": {
      "application/vnd.jupyter.widget-view+json": {
       "model_id": "047f03469ebd475995306f5fdcefde5f",
       "version_major": 2,
       "version_minor": 0
      },
      "text/plain": [
       "  0%|                                                                                                         …"
      ]
     },
     "metadata": {},
     "output_type": "display_data"
    },
    {
     "name": "stdout",
     "output_type": "stream",
     "text": [
      "[RESULT]: Train. Epoch: 22, summary_loss: 0.06519, AUC_ROC: 0.981 time: 2057.92161\n"
     ]
    },
    {
     "data": {
      "application/vnd.jupyter.widget-view+json": {
       "model_id": "61a49f11c00b4ee3ab128bd537330d26",
       "version_major": 2,
       "version_minor": 0
      },
      "text/plain": [
       "  0%|                                                                                                         …"
      ]
     },
     "metadata": {},
     "output_type": "display_data"
    },
    {
     "name": "stdout",
     "output_type": "stream",
     "text": [
      "[RESULT]: Val. Epoch: 22, summary_loss: 0.08328, AUC ROC: 0.963 time: 0.00000\n",
      "Time: 2021-06-27T15:38:07.325765 \n",
      "\n"
     ]
    },
    {
     "data": {
      "application/vnd.jupyter.widget-view+json": {
       "model_id": "5e3c61eab22f47458d1a02a8950e2857",
       "version_major": 2,
       "version_minor": 0
      },
      "text/plain": [
       "  0%|                                                                                                         …"
      ]
     },
     "metadata": {},
     "output_type": "display_data"
    },
    {
     "name": "stdout",
     "output_type": "stream",
     "text": [
      "[RESULT]: Train. Epoch: 23, summary_loss: 0.06164, AUC_ROC: 0.982 time: 2059.27600\n"
     ]
    },
    {
     "data": {
      "application/vnd.jupyter.widget-view+json": {
       "model_id": "b679dc42a8fe4fd4874f2a45921d48f2",
       "version_major": 2,
       "version_minor": 0
      },
      "text/plain": [
       "  0%|                                                                                                         …"
      ]
     },
     "metadata": {},
     "output_type": "display_data"
    },
    {
     "name": "stdout",
     "output_type": "stream",
     "text": [
      "[RESULT]: Val. Epoch: 23, summary_loss: 0.09052, AUC ROC: 0.962 time: 0.00000\n",
      "Time: 2021-06-27T16:18:25.410779 \n",
      "\n"
     ]
    },
    {
     "data": {
      "application/vnd.jupyter.widget-view+json": {
       "model_id": "83f8ae466721430e9a25d0061bf21f87",
       "version_major": 2,
       "version_minor": 0
      },
      "text/plain": [
       "  0%|                                                                                                         …"
      ]
     },
     "metadata": {},
     "output_type": "display_data"
    },
    {
     "name": "stdout",
     "output_type": "stream",
     "text": [
      "[RESULT]: Train. Epoch: 24, summary_loss: 0.05893, AUC_ROC: 0.983 time: 2057.63584\n"
     ]
    },
    {
     "data": {
      "application/vnd.jupyter.widget-view+json": {
       "model_id": "78dbec0eeb1f41288c3519dd08210e0c",
       "version_major": 2,
       "version_minor": 0
      },
      "text/plain": [
       "  0%|                                                                                                         …"
      ]
     },
     "metadata": {},
     "output_type": "display_data"
    },
    {
     "name": "stdout",
     "output_type": "stream",
     "text": [
      "[RESULT]: Val. Epoch: 24, summary_loss: 0.08152, AUC ROC: 0.963 time: 0.00000\n",
      "START NEW FOLD\n",
      "Time: 2021-06-27T16:58:44.478788 \n",
      "\n"
     ]
    },
    {
     "data": {
      "application/vnd.jupyter.widget-view+json": {
       "model_id": "f26e9a74d45d4c868e30866a16ee8ad4",
       "version_major": 2,
       "version_minor": 0
      },
      "text/plain": [
       "  0%|                                                                                                         …"
      ]
     },
     "metadata": {},
     "output_type": "display_data"
    },
    {
     "name": "stdout",
     "output_type": "stream",
     "text": [
      "[RESULT]: Train. Epoch: 0, summary_loss: 0.24221, AUC_ROC: 0.744 time: 1948.85265\n"
     ]
    },
    {
     "data": {
      "application/vnd.jupyter.widget-view+json": {
       "model_id": "7f3fffe326d340f5ab20b5370cd075a6",
       "version_major": 2,
       "version_minor": 0
      },
      "text/plain": [
       "  0%|                                                                                                         …"
      ]
     },
     "metadata": {},
     "output_type": "display_data"
    },
    {
     "name": "stdout",
     "output_type": "stream",
     "text": [
      "[RESULT]: Val. Epoch: 0, summary_loss: 0.12906, AUC ROC: 0.926 time: 0.00000\n",
      "Time: 2021-06-27T17:37:16.913990 \n",
      "\n"
     ]
    },
    {
     "data": {
      "application/vnd.jupyter.widget-view+json": {
       "model_id": "75cd492b2d2f48e0b23b0ce16c38db38",
       "version_major": 2,
       "version_minor": 0
      },
      "text/plain": [
       "  0%|                                                                                                         …"
      ]
     },
     "metadata": {},
     "output_type": "display_data"
    },
    {
     "name": "stdout",
     "output_type": "stream",
     "text": [
      "[RESULT]: Train. Epoch: 1, summary_loss: 0.15825, AUC_ROC: 0.891 time: 2051.20706\n"
     ]
    },
    {
     "data": {
      "application/vnd.jupyter.widget-view+json": {
       "model_id": "cbaaa95f84b0406a8f39e7c4fe644997",
       "version_major": 2,
       "version_minor": 0
      },
      "text/plain": [
       "  0%|                                                                                                         …"
      ]
     },
     "metadata": {},
     "output_type": "display_data"
    },
    {
     "name": "stdout",
     "output_type": "stream",
     "text": [
      "[RESULT]: Val. Epoch: 1, summary_loss: 0.10491, AUC ROC: 0.948 time: 0.00000\n",
      "Time: 2021-06-27T18:17:27.980756 \n",
      "\n"
     ]
    },
    {
     "data": {
      "application/vnd.jupyter.widget-view+json": {
       "model_id": "80df74c66d43422aa580253f8e73350d",
       "version_major": 2,
       "version_minor": 0
      },
      "text/plain": [
       "  0%|                                                                                                         …"
      ]
     },
     "metadata": {},
     "output_type": "display_data"
    },
    {
     "name": "stdout",
     "output_type": "stream",
     "text": [
      "[RESULT]: Train. Epoch: 2, summary_loss: 0.13936, AUC_ROC: 0.912 time: 2057.00987\n"
     ]
    },
    {
     "data": {
      "application/vnd.jupyter.widget-view+json": {
       "model_id": "115ceba9b97747d4a605e3e64934bc73",
       "version_major": 2,
       "version_minor": 0
      },
      "text/plain": [
       "  0%|                                                                                                         …"
      ]
     },
     "metadata": {},
     "output_type": "display_data"
    },
    {
     "name": "stdout",
     "output_type": "stream",
     "text": [
      "[RESULT]: Val. Epoch: 2, summary_loss: 0.08879, AUC ROC: 0.959 time: 0.00000\n",
      "Time: 2021-06-27T18:57:46.994012 \n",
      "\n"
     ]
    },
    {
     "data": {
      "application/vnd.jupyter.widget-view+json": {
       "model_id": "9827554d78f942658b4fc1ebee02b9fd",
       "version_major": 2,
       "version_minor": 0
      },
      "text/plain": [
       "  0%|                                                                                                         …"
      ]
     },
     "metadata": {},
     "output_type": "display_data"
    },
    {
     "name": "stdout",
     "output_type": "stream",
     "text": [
      "[RESULT]: Train. Epoch: 3, summary_loss: 0.12825, AUC_ROC: 0.925 time: 2062.71954\n"
     ]
    },
    {
     "data": {
      "application/vnd.jupyter.widget-view+json": {
       "model_id": "4d45cafc4b7a4b10bc2e335cad268af1",
       "version_major": 2,
       "version_minor": 0
      },
      "text/plain": [
       "  0%|                                                                                                         …"
      ]
     },
     "metadata": {},
     "output_type": "display_data"
    },
    {
     "name": "stdout",
     "output_type": "stream",
     "text": [
      "[RESULT]: Val. Epoch: 3, summary_loss: 0.08109, AUC ROC: 0.962 time: 0.00000\n",
      "Time: 2021-06-27T19:38:07.403286 \n",
      "\n"
     ]
    },
    {
     "data": {
      "application/vnd.jupyter.widget-view+json": {
       "model_id": "91bc7c2c54de460ba323406159d072e2",
       "version_major": 2,
       "version_minor": 0
      },
      "text/plain": [
       "  0%|                                                                                                         …"
      ]
     },
     "metadata": {},
     "output_type": "display_data"
    },
    {
     "name": "stdout",
     "output_type": "stream",
     "text": [
      "[RESULT]: Train. Epoch: 4, summary_loss: 0.11775, AUC_ROC: 0.934 time: 2054.23415\n"
     ]
    },
    {
     "data": {
      "application/vnd.jupyter.widget-view+json": {
       "model_id": "34cbf81ff8574b8f9e4c611f6191a822",
       "version_major": 2,
       "version_minor": 0
      },
      "text/plain": [
       "  0%|                                                                                                         …"
      ]
     },
     "metadata": {},
     "output_type": "display_data"
    },
    {
     "name": "stdout",
     "output_type": "stream",
     "text": [
      "[RESULT]: Val. Epoch: 4, summary_loss: 0.09098, AUC ROC: 0.963 time: 0.00000\n",
      "Time: 2021-06-27T20:18:22.653907 \n",
      "\n"
     ]
    },
    {
     "data": {
      "application/vnd.jupyter.widget-view+json": {
       "model_id": "3e538d6ed27840c98cc3814a58e63efb",
       "version_major": 2,
       "version_minor": 0
      },
      "text/plain": [
       "  0%|                                                                                                         …"
      ]
     },
     "metadata": {},
     "output_type": "display_data"
    },
    {
     "name": "stdout",
     "output_type": "stream",
     "text": [
      "[RESULT]: Train. Epoch: 5, summary_loss: 0.11241, AUC_ROC: 0.939 time: 2058.72166\n"
     ]
    },
    {
     "data": {
      "application/vnd.jupyter.widget-view+json": {
       "model_id": "9c92a2f5aa5e400892735b39d9b708f2",
       "version_major": 2,
       "version_minor": 0
      },
      "text/plain": [
       "  0%|                                                                                                         …"
      ]
     },
     "metadata": {},
     "output_type": "display_data"
    },
    {
     "name": "stdout",
     "output_type": "stream",
     "text": [
      "[RESULT]: Val. Epoch: 5, summary_loss: 0.07719, AUC ROC: 0.965 time: 0.00000\n",
      "Time: 2021-06-27T20:58:41.065260 \n",
      "\n"
     ]
    },
    {
     "data": {
      "application/vnd.jupyter.widget-view+json": {
       "model_id": "5e5670a1bd634527b6752903007902be",
       "version_major": 2,
       "version_minor": 0
      },
      "text/plain": [
       "  0%|                                                                                                         …"
      ]
     },
     "metadata": {},
     "output_type": "display_data"
    },
    {
     "name": "stdout",
     "output_type": "stream",
     "text": [
      "[RESULT]: Train. Epoch: 6, summary_loss: 0.10784, AUC_ROC: 0.945 time: 2060.54850\n"
     ]
    },
    {
     "data": {
      "application/vnd.jupyter.widget-view+json": {
       "model_id": "ad2f644946ab4dbeabe8a4537f142272",
       "version_major": 2,
       "version_minor": 0
      },
      "text/plain": [
       "  0%|                                                                                                         …"
      ]
     },
     "metadata": {},
     "output_type": "display_data"
    },
    {
     "name": "stdout",
     "output_type": "stream",
     "text": [
      "[RESULT]: Val. Epoch: 6, summary_loss: 0.07772, AUC ROC: 0.964 time: 0.00000\n",
      "Time: 2021-06-27T21:39:01.605005 \n",
      "\n"
     ]
    },
    {
     "data": {
      "application/vnd.jupyter.widget-view+json": {
       "model_id": "ba4fe105ebce4b55885b19f536dc78b1",
       "version_major": 2,
       "version_minor": 0
      },
      "text/plain": [
       "  0%|                                                                                                         …"
      ]
     },
     "metadata": {},
     "output_type": "display_data"
    },
    {
     "name": "stdout",
     "output_type": "stream",
     "text": [
      "[RESULT]: Train. Epoch: 7, summary_loss: 0.10145, AUC_ROC: 0.951 time: 2054.32026\n"
     ]
    },
    {
     "data": {
      "application/vnd.jupyter.widget-view+json": {
       "model_id": "546eb4742a1443f9948c067051663d26",
       "version_major": 2,
       "version_minor": 0
      },
      "text/plain": [
       "  0%|                                                                                                         …"
      ]
     },
     "metadata": {},
     "output_type": "display_data"
    },
    {
     "name": "stdout",
     "output_type": "stream",
     "text": [
      "[RESULT]: Val. Epoch: 7, summary_loss: 0.06866, AUC ROC: 0.973 time: 0.00000\n",
      "Time: 2021-06-27T22:19:13.360436 \n",
      "\n"
     ]
    },
    {
     "data": {
      "application/vnd.jupyter.widget-view+json": {
       "model_id": "31ef63c7d9264271b09d2cf1456cc833",
       "version_major": 2,
       "version_minor": 0
      },
      "text/plain": [
       "  0%|                                                                                                         …"
      ]
     },
     "metadata": {},
     "output_type": "display_data"
    },
    {
     "name": "stdout",
     "output_type": "stream",
     "text": [
      "[RESULT]: Train. Epoch: 8, summary_loss: 0.10145, AUC_ROC: 0.951 time: 2062.39695\n"
     ]
    },
    {
     "data": {
      "application/vnd.jupyter.widget-view+json": {
       "model_id": "7f161fb37d5b49a992b194ddefb4240b",
       "version_major": 2,
       "version_minor": 0
      },
      "text/plain": [
       "  0%|                                                                                                         …"
      ]
     },
     "metadata": {},
     "output_type": "display_data"
    },
    {
     "name": "stdout",
     "output_type": "stream",
     "text": [
      "[RESULT]: Val. Epoch: 8, summary_loss: 0.06644, AUC ROC: 0.971 time: 0.00000\n",
      "Time: 2021-06-27T22:59:35.404048 \n",
      "\n"
     ]
    },
    {
     "data": {
      "application/vnd.jupyter.widget-view+json": {
       "model_id": "a40ea70a2ee24210a128fd0a8bb16d87",
       "version_major": 2,
       "version_minor": 0
      },
      "text/plain": [
       "  0%|                                                                                                         …"
      ]
     },
     "metadata": {},
     "output_type": "display_data"
    },
    {
     "name": "stdout",
     "output_type": "stream",
     "text": [
      "[RESULT]: Train. Epoch: 9, summary_loss: 0.09729, AUC_ROC: 0.956 time: 2055.43251\n"
     ]
    },
    {
     "data": {
      "application/vnd.jupyter.widget-view+json": {
       "model_id": "eea762ebbd604dd8b25a5fea0ce6efcc",
       "version_major": 2,
       "version_minor": 0
      },
      "text/plain": [
       "  0%|                                                                                                         …"
      ]
     },
     "metadata": {},
     "output_type": "display_data"
    },
    {
     "name": "stdout",
     "output_type": "stream",
     "text": [
      "[RESULT]: Val. Epoch: 9, summary_loss: 0.06501, AUC ROC: 0.971 time: 0.00000\n",
      "Time: 2021-06-27T23:39:51.316403 \n",
      "\n"
     ]
    },
    {
     "data": {
      "application/vnd.jupyter.widget-view+json": {
       "model_id": "79eb5215c95140858184bcd1a95de315",
       "version_major": 2,
       "version_minor": 0
      },
      "text/plain": [
       "  0%|                                                                                                         …"
      ]
     },
     "metadata": {},
     "output_type": "display_data"
    },
    {
     "name": "stdout",
     "output_type": "stream",
     "text": [
      "[RESULT]: Train. Epoch: 10, summary_loss: 0.09576, AUC_ROC: 0.956 time: 2055.23646\n"
     ]
    },
    {
     "data": {
      "application/vnd.jupyter.widget-view+json": {
       "model_id": "cace773db0f4471d9a37a7daee30e4bb",
       "version_major": 2,
       "version_minor": 0
      },
      "text/plain": [
       "  0%|                                                                                                         …"
      ]
     },
     "metadata": {},
     "output_type": "display_data"
    },
    {
     "name": "stdout",
     "output_type": "stream",
     "text": [
      "[RESULT]: Val. Epoch: 10, summary_loss: 0.07027, AUC ROC: 0.969 time: 0.00000\n",
      "Time: 2021-06-28T00:20:08.712594 \n",
      "\n"
     ]
    },
    {
     "data": {
      "application/vnd.jupyter.widget-view+json": {
       "model_id": "776dd6f7eb0c4c6b8d66672dc3e16486",
       "version_major": 2,
       "version_minor": 0
      },
      "text/plain": [
       "  0%|                                                                                                         …"
      ]
     },
     "metadata": {},
     "output_type": "display_data"
    },
    {
     "name": "stdout",
     "output_type": "stream",
     "text": [
      "[RESULT]: Train. Epoch: 11, summary_loss: 0.09365, AUC_ROC: 0.958 time: 2070.12314\n"
     ]
    },
    {
     "data": {
      "application/vnd.jupyter.widget-view+json": {
       "model_id": "74541e39a58a4e1ea78709c3664e50d1",
       "version_major": 2,
       "version_minor": 0
      },
      "text/plain": [
       "  0%|                                                                                                         …"
      ]
     },
     "metadata": {},
     "output_type": "display_data"
    },
    {
     "name": "stdout",
     "output_type": "stream",
     "text": [
      "[RESULT]: Val. Epoch: 11, summary_loss: 0.06461, AUC ROC: 0.971 time: 0.00000\n",
      "Time: 2021-06-28T01:00:37.317170 \n",
      "\n"
     ]
    },
    {
     "data": {
      "application/vnd.jupyter.widget-view+json": {
       "model_id": "6170d47e95b64eaebefaffa408924730",
       "version_major": 2,
       "version_minor": 0
      },
      "text/plain": [
       "  0%|                                                                                                         …"
      ]
     },
     "metadata": {},
     "output_type": "display_data"
    },
    {
     "name": "stdout",
     "output_type": "stream",
     "text": [
      "[RESULT]: Train. Epoch: 12, summary_loss: 0.09150, AUC_ROC: 0.960 time: 2059.87750\n"
     ]
    },
    {
     "data": {
      "application/vnd.jupyter.widget-view+json": {
       "model_id": "1c855775f46d4595b7fc4a2e496d99e4",
       "version_major": 2,
       "version_minor": 0
      },
      "text/plain": [
       "  0%|                                                                                                         …"
      ]
     },
     "metadata": {},
     "output_type": "display_data"
    },
    {
     "name": "stdout",
     "output_type": "stream",
     "text": [
      "[RESULT]: Val. Epoch: 12, summary_loss: 0.06635, AUC ROC: 0.971 time: 0.00000\n",
      "Time: 2021-06-28T01:40:58.723118 \n",
      "\n"
     ]
    },
    {
     "data": {
      "application/vnd.jupyter.widget-view+json": {
       "model_id": "372d593e27ff46198f7ea1d2f7538635",
       "version_major": 2,
       "version_minor": 0
      },
      "text/plain": [
       "  0%|                                                                                                         …"
      ]
     },
     "metadata": {},
     "output_type": "display_data"
    },
    {
     "name": "stdout",
     "output_type": "stream",
     "text": [
      "[RESULT]: Train. Epoch: 13, summary_loss: 0.08703, AUC_ROC: 0.964 time: 2056.72123\n"
     ]
    },
    {
     "data": {
      "application/vnd.jupyter.widget-view+json": {
       "model_id": "62e0b519afc34f53962f420dbc4be54a",
       "version_major": 2,
       "version_minor": 0
      },
      "text/plain": [
       "  0%|                                                                                                         …"
      ]
     },
     "metadata": {},
     "output_type": "display_data"
    },
    {
     "name": "stdout",
     "output_type": "stream",
     "text": [
      "[RESULT]: Val. Epoch: 13, summary_loss: 0.06903, AUC ROC: 0.968 time: 0.00000\n",
      "Time: 2021-06-28T02:21:13.650934 \n",
      "\n"
     ]
    },
    {
     "data": {
      "application/vnd.jupyter.widget-view+json": {
       "model_id": "c156d2e7b3054ab881273ae6dbdd50a5",
       "version_major": 2,
       "version_minor": 0
      },
      "text/plain": [
       "  0%|                                                                                                         …"
      ]
     },
     "metadata": {},
     "output_type": "display_data"
    },
    {
     "name": "stdout",
     "output_type": "stream",
     "text": [
      "[RESULT]: Train. Epoch: 14, summary_loss: 0.07979, AUC_ROC: 0.969 time: 2057.48172\n"
     ]
    },
    {
     "data": {
      "application/vnd.jupyter.widget-view+json": {
       "model_id": "1d74ccbf97d44b1eba50b177e9fd2aa4",
       "version_major": 2,
       "version_minor": 0
      },
      "text/plain": [
       "  0%|                                                                                                         …"
      ]
     },
     "metadata": {},
     "output_type": "display_data"
    },
    {
     "name": "stdout",
     "output_type": "stream",
     "text": [
      "[RESULT]: Val. Epoch: 14, summary_loss: 0.06371, AUC ROC: 0.975 time: 0.00000\n",
      "Time: 2021-06-28T03:01:30.350743 \n",
      "\n"
     ]
    },
    {
     "data": {
      "application/vnd.jupyter.widget-view+json": {
       "model_id": "392177dfc38649bcbe5422c0ddcb42ae",
       "version_major": 2,
       "version_minor": 0
      },
      "text/plain": [
       "  0%|                                                                                                         …"
      ]
     },
     "metadata": {},
     "output_type": "display_data"
    },
    {
     "name": "stdout",
     "output_type": "stream",
     "text": [
      "[RESULT]: Train. Epoch: 15, summary_loss: 0.07561, AUC_ROC: 0.973 time: 2063.64908\n"
     ]
    },
    {
     "data": {
      "application/vnd.jupyter.widget-view+json": {
       "model_id": "10237a00de384336a1c79ce4ff65b4bb",
       "version_major": 2,
       "version_minor": 0
      },
      "text/plain": [
       "  0%|                                                                                                         …"
      ]
     },
     "metadata": {},
     "output_type": "display_data"
    },
    {
     "name": "stdout",
     "output_type": "stream",
     "text": [
      "[RESULT]: Val. Epoch: 15, summary_loss: 0.06251, AUC ROC: 0.977 time: 0.00000\n",
      "Time: 2021-06-28T03:41:53.950555 \n",
      "\n"
     ]
    },
    {
     "data": {
      "application/vnd.jupyter.widget-view+json": {
       "model_id": "b19a275302f3497ea9f680889107ce3b",
       "version_major": 2,
       "version_minor": 0
      },
      "text/plain": [
       "  0%|                                                                                                         …"
      ]
     },
     "metadata": {},
     "output_type": "display_data"
    },
    {
     "name": "stdout",
     "output_type": "stream",
     "text": [
      "[RESULT]: Train. Epoch: 16, summary_loss: 0.07453, AUC_ROC: 0.973 time: 2055.04007\n"
     ]
    },
    {
     "data": {
      "application/vnd.jupyter.widget-view+json": {
       "model_id": "4c8a4c791d614a088ee9d8378be33a43",
       "version_major": 2,
       "version_minor": 0
      },
      "text/plain": [
       "  0%|                                                                                                         …"
      ]
     },
     "metadata": {},
     "output_type": "display_data"
    },
    {
     "name": "stdout",
     "output_type": "stream",
     "text": [
      "[RESULT]: Val. Epoch: 16, summary_loss: 0.06069, AUC ROC: 0.975 time: 0.00000\n",
      "Time: 2021-06-28T04:22:11.270879 \n",
      "\n"
     ]
    },
    {
     "data": {
      "application/vnd.jupyter.widget-view+json": {
       "model_id": "04958a14ba7f41a78aaf3b765fa93940",
       "version_major": 2,
       "version_minor": 0
      },
      "text/plain": [
       "  0%|                                                                                                         …"
      ]
     },
     "metadata": {},
     "output_type": "display_data"
    },
    {
     "name": "stdout",
     "output_type": "stream",
     "text": [
      "[RESULT]: Train. Epoch: 17, summary_loss: 0.07074, AUC_ROC: 0.977 time: 2069.18761\n"
     ]
    },
    {
     "data": {
      "application/vnd.jupyter.widget-view+json": {
       "model_id": "a4c0b0a8e9294b9e9c816a641a5c94ce",
       "version_major": 2,
       "version_minor": 0
      },
      "text/plain": [
       "  0%|                                                                                                         …"
      ]
     },
     "metadata": {},
     "output_type": "display_data"
    },
    {
     "name": "stdout",
     "output_type": "stream",
     "text": [
      "[RESULT]: Val. Epoch: 17, summary_loss: 0.06750, AUC ROC: 0.976 time: 0.00000\n",
      "Time: 2021-06-28T05:02:39.794086 \n",
      "\n"
     ]
    },
    {
     "data": {
      "application/vnd.jupyter.widget-view+json": {
       "model_id": "f27e6eae6d884ecb83154ed8983695c1",
       "version_major": 2,
       "version_minor": 0
      },
      "text/plain": [
       "  0%|                                                                                                         …"
      ]
     },
     "metadata": {},
     "output_type": "display_data"
    },
    {
     "name": "stdout",
     "output_type": "stream",
     "text": [
      "[RESULT]: Train. Epoch: 18, summary_loss: 0.06748, AUC_ROC: 0.978 time: 2071.49615\n"
     ]
    },
    {
     "data": {
      "application/vnd.jupyter.widget-view+json": {
       "model_id": "486a1954564c49a0a88de4032642561f",
       "version_major": 2,
       "version_minor": 0
      },
      "text/plain": [
       "  0%|                                                                                                         …"
      ]
     },
     "metadata": {},
     "output_type": "display_data"
    },
    {
     "name": "stdout",
     "output_type": "stream",
     "text": [
      "[RESULT]: Val. Epoch: 18, summary_loss: 0.07059, AUC ROC: 0.977 time: 0.00000\n",
      "Time: 2021-06-28T05:43:14.950802 \n",
      "\n"
     ]
    },
    {
     "data": {
      "application/vnd.jupyter.widget-view+json": {
       "model_id": "9b42a2ed623c4492811bad17c8993729",
       "version_major": 2,
       "version_minor": 0
      },
      "text/plain": [
       "  0%|                                                                                                         …"
      ]
     },
     "metadata": {},
     "output_type": "display_data"
    },
    {
     "name": "stdout",
     "output_type": "stream",
     "text": [
      "[RESULT]: Train. Epoch: 19, summary_loss: 0.06584, AUC_ROC: 0.980 time: 2020.43168\n"
     ]
    },
    {
     "data": {
      "application/vnd.jupyter.widget-view+json": {
       "model_id": "12acee6327f44ef09556318dc2881cfd",
       "version_major": 2,
       "version_minor": 0
      },
      "text/plain": [
       "  0%|                                                                                                         …"
      ]
     },
     "metadata": {},
     "output_type": "display_data"
    },
    {
     "name": "stdout",
     "output_type": "stream",
     "text": [
      "[RESULT]: Val. Epoch: 19, summary_loss: 0.06294, AUC ROC: 0.977 time: 0.00000\n",
      "Time: 2021-06-28T06:22:39.553559 \n",
      "\n"
     ]
    },
    {
     "data": {
      "application/vnd.jupyter.widget-view+json": {
       "model_id": "3f9c2ada12124904a078552ca7f7b5aa",
       "version_major": 2,
       "version_minor": 0
      },
      "text/plain": [
       "  0%|                                                                                                         …"
      ]
     },
     "metadata": {},
     "output_type": "display_data"
    },
    {
     "name": "stdout",
     "output_type": "stream",
     "text": [
      "[RESULT]: Train. Epoch: 20, summary_loss: 0.06549, AUC_ROC: 0.980 time: 1959.80074\n"
     ]
    },
    {
     "data": {
      "application/vnd.jupyter.widget-view+json": {
       "model_id": "7a3fbcbe213a4633bf1bbe17a588a7d1",
       "version_major": 2,
       "version_minor": 0
      },
      "text/plain": [
       "  0%|                                                                                                         …"
      ]
     },
     "metadata": {},
     "output_type": "display_data"
    },
    {
     "name": "stdout",
     "output_type": "stream",
     "text": [
      "[RESULT]: Val. Epoch: 20, summary_loss: 0.06907, AUC ROC: 0.975 time: 0.00000\n",
      "Time: 2021-06-28T07:01:12.972608 \n",
      "\n"
     ]
    },
    {
     "data": {
      "application/vnd.jupyter.widget-view+json": {
       "model_id": "e9282259f07e4d5eaed7f7b2f5606ee0",
       "version_major": 2,
       "version_minor": 0
      },
      "text/plain": [
       "  0%|                                                                                                         …"
      ]
     },
     "metadata": {},
     "output_type": "display_data"
    },
    {
     "name": "stdout",
     "output_type": "stream",
     "text": [
      "[RESULT]: Train. Epoch: 21, summary_loss: 0.06478, AUC_ROC: 0.982 time: 1974.35327\n"
     ]
    },
    {
     "data": {
      "application/vnd.jupyter.widget-view+json": {
       "model_id": "40035ebcd4a94b339832d52abd671820",
       "version_major": 2,
       "version_minor": 0
      },
      "text/plain": [
       "  0%|                                                                                                         …"
      ]
     },
     "metadata": {},
     "output_type": "display_data"
    },
    {
     "name": "stdout",
     "output_type": "stream",
     "text": [
      "[RESULT]: Val. Epoch: 21, summary_loss: 0.06427, AUC ROC: 0.976 time: 0.00000\n",
      "Time: 2021-06-28T07:40:02.981299 \n",
      "\n"
     ]
    },
    {
     "data": {
      "application/vnd.jupyter.widget-view+json": {
       "model_id": "4beab59f51834b71a4b2f86f90d587da",
       "version_major": 2,
       "version_minor": 0
      },
      "text/plain": [
       "  0%|                                                                                                         …"
      ]
     },
     "metadata": {},
     "output_type": "display_data"
    },
    {
     "name": "stdout",
     "output_type": "stream",
     "text": [
      "[RESULT]: Train. Epoch: 22, summary_loss: 0.05958, AUC_ROC: 0.984 time: 1986.52484\n"
     ]
    },
    {
     "data": {
      "application/vnd.jupyter.widget-view+json": {
       "model_id": "183ccfad1e2a49f38ae579fc565d1618",
       "version_major": 2,
       "version_minor": 0
      },
      "text/plain": [
       "  0%|                                                                                                         …"
      ]
     },
     "metadata": {},
     "output_type": "display_data"
    },
    {
     "name": "stdout",
     "output_type": "stream",
     "text": [
      "[RESULT]: Val. Epoch: 22, summary_loss: 0.06468, AUC ROC: 0.976 time: 0.00000\n",
      "Time: 2021-06-28T08:19:10.614265 \n",
      "\n"
     ]
    },
    {
     "data": {
      "application/vnd.jupyter.widget-view+json": {
       "model_id": "ff6ed96d1b854a15a7aba97cfebffba5",
       "version_major": 2,
       "version_minor": 0
      },
      "text/plain": [
       "  0%|                                                                                                         …"
      ]
     },
     "metadata": {},
     "output_type": "display_data"
    },
    {
     "name": "stdout",
     "output_type": "stream",
     "text": [
      "[RESULT]: Train. Epoch: 23, summary_loss: 0.05961, AUC_ROC: 0.984 time: 1974.24819\n"
     ]
    },
    {
     "data": {
      "application/vnd.jupyter.widget-view+json": {
       "model_id": "3789f6ba774146268b82de8b1e352336",
       "version_major": 2,
       "version_minor": 0
      },
      "text/plain": [
       "  0%|                                                                                                         …"
      ]
     },
     "metadata": {},
     "output_type": "display_data"
    },
    {
     "name": "stdout",
     "output_type": "stream",
     "text": [
      "[RESULT]: Val. Epoch: 23, summary_loss: 0.07064, AUC ROC: 0.974 time: 0.00000\n",
      "Time: 2021-06-28T08:57:57.934547 \n",
      "\n"
     ]
    },
    {
     "data": {
      "application/vnd.jupyter.widget-view+json": {
       "model_id": "e328c70e18a24e8aa14e1b322614773f",
       "version_major": 2,
       "version_minor": 0
      },
      "text/plain": [
       "  0%|                                                                                                         …"
      ]
     },
     "metadata": {},
     "output_type": "display_data"
    },
    {
     "name": "stdout",
     "output_type": "stream",
     "text": [
      "[RESULT]: Train. Epoch: 24, summary_loss: 0.05794, AUC_ROC: 0.985 time: 1991.23099\n"
     ]
    },
    {
     "data": {
      "application/vnd.jupyter.widget-view+json": {
       "model_id": "a0c2b716cb7747458083e37b991908b9",
       "version_major": 2,
       "version_minor": 0
      },
      "text/plain": [
       "  0%|                                                                                                         …"
      ]
     },
     "metadata": {},
     "output_type": "display_data"
    },
    {
     "name": "stdout",
     "output_type": "stream",
     "text": [
      "[RESULT]: Val. Epoch: 24, summary_loss: 0.06752, AUC ROC: 0.975 time: 0.00000\n",
      "START NEW FOLD\n",
      "Time: 2021-06-28T09:36:59.938213 \n",
      "\n"
     ]
    },
    {
     "data": {
      "application/vnd.jupyter.widget-view+json": {
       "model_id": "9f53c76afdbb46f0963b2ab84775650f",
       "version_major": 2,
       "version_minor": 0
      },
      "text/plain": [
       "  0%|                                                                                                         …"
      ]
     },
     "metadata": {},
     "output_type": "display_data"
    },
    {
     "name": "stdout",
     "output_type": "stream",
     "text": [
      "[RESULT]: Train. Epoch: 0, summary_loss: 0.23222, AUC_ROC: 0.765 time: 1906.99383\n"
     ]
    },
    {
     "data": {
      "application/vnd.jupyter.widget-view+json": {
       "model_id": "7a2e5e81e3694962a7f72b72117b23dd",
       "version_major": 2,
       "version_minor": 0
      },
      "text/plain": [
       "  0%|                                                                                                         …"
      ]
     },
     "metadata": {},
     "output_type": "display_data"
    },
    {
     "name": "stdout",
     "output_type": "stream",
     "text": [
      "[RESULT]: Val. Epoch: 0, summary_loss: 0.13378, AUC ROC: 0.921 time: 0.00000\n",
      "Time: 2021-06-28T10:14:49.215292 \n",
      "\n"
     ]
    },
    {
     "data": {
      "application/vnd.jupyter.widget-view+json": {
       "model_id": "bbd127d5b1a54d93ab1ed91039f9bdf1",
       "version_major": 2,
       "version_minor": 0
      },
      "text/plain": [
       "  0%|                                                                                                         …"
      ]
     },
     "metadata": {},
     "output_type": "display_data"
    },
    {
     "name": "stdout",
     "output_type": "stream",
     "text": [
      "[RESULT]: Train. Epoch: 1, summary_loss: 0.16043, AUC_ROC: 0.887 time: 2059.55692\n"
     ]
    },
    {
     "data": {
      "application/vnd.jupyter.widget-view+json": {
       "model_id": "e58c169b4bc44ddbb76aab7a32f77ef8",
       "version_major": 2,
       "version_minor": 0
      },
      "text/plain": [
       "  0%|                                                                                                         …"
      ]
     },
     "metadata": {},
     "output_type": "display_data"
    },
    {
     "name": "stdout",
     "output_type": "stream",
     "text": [
      "[RESULT]: Val. Epoch: 1, summary_loss: 0.10798, AUC ROC: 0.946 time: 0.00000\n",
      "Time: 2021-06-28T10:55:08.010787 \n",
      "\n"
     ]
    },
    {
     "data": {
      "application/vnd.jupyter.widget-view+json": {
       "model_id": "7e4707318e0a4d3fbe502a06058bc561",
       "version_major": 2,
       "version_minor": 0
      },
      "text/plain": [
       "  0%|                                                                                                         …"
      ]
     },
     "metadata": {},
     "output_type": "display_data"
    },
    {
     "name": "stdout",
     "output_type": "stream",
     "text": [
      "[RESULT]: Train. Epoch: 2, summary_loss: 0.13844, AUC_ROC: 0.912 time: 2031.87744\n"
     ]
    },
    {
     "data": {
      "application/vnd.jupyter.widget-view+json": {
       "model_id": "b467fa41d7434a5680af08514de1f9d3",
       "version_major": 2,
       "version_minor": 0
      },
      "text/plain": [
       "  0%|                                                                                                         …"
      ]
     },
     "metadata": {},
     "output_type": "display_data"
    },
    {
     "name": "stdout",
     "output_type": "stream",
     "text": [
      "[RESULT]: Val. Epoch: 2, summary_loss: 0.08610, AUC ROC: 0.961 time: 0.00000\n",
      "Time: 2021-06-28T11:34:57.405208 \n",
      "\n"
     ]
    },
    {
     "data": {
      "application/vnd.jupyter.widget-view+json": {
       "model_id": "7a605cb827df4dc1a37556da4c95a614",
       "version_major": 2,
       "version_minor": 0
      },
      "text/plain": [
       "  0%|                                                                                                         …"
      ]
     },
     "metadata": {},
     "output_type": "display_data"
    },
    {
     "name": "stdout",
     "output_type": "stream",
     "text": [
      "[RESULT]: Train. Epoch: 3, summary_loss: 0.12708, AUC_ROC: 0.927 time: 1995.29647\n"
     ]
    },
    {
     "data": {
      "application/vnd.jupyter.widget-view+json": {
       "model_id": "35109b6b775a469cab31426863d2d525",
       "version_major": 2,
       "version_minor": 0
      },
      "text/plain": [
       "  0%|                                                                                                         …"
      ]
     },
     "metadata": {},
     "output_type": "display_data"
    },
    {
     "name": "stdout",
     "output_type": "stream",
     "text": [
      "[RESULT]: Val. Epoch: 3, summary_loss: 0.08149, AUC ROC: 0.957 time: 0.00000\n",
      "Time: 2021-06-28T12:14:12.386384 \n",
      "\n"
     ]
    },
    {
     "data": {
      "application/vnd.jupyter.widget-view+json": {
       "model_id": "dd86e5048ac44bda896154adda3334ca",
       "version_major": 2,
       "version_minor": 0
      },
      "text/plain": [
       "  0%|                                                                                                         …"
      ]
     },
     "metadata": {},
     "output_type": "display_data"
    },
    {
     "name": "stdout",
     "output_type": "stream",
     "text": [
      "[RESULT]: Train. Epoch: 4, summary_loss: 0.11850, AUC_ROC: 0.934 time: 1988.43549\n"
     ]
    },
    {
     "data": {
      "application/vnd.jupyter.widget-view+json": {
       "model_id": "35fe8cf9058e4622bbf639e1f7250180",
       "version_major": 2,
       "version_minor": 0
      },
      "text/plain": [
       "  0%|                                                                                                         …"
      ]
     },
     "metadata": {},
     "output_type": "display_data"
    },
    {
     "name": "stdout",
     "output_type": "stream",
     "text": [
      "[RESULT]: Val. Epoch: 4, summary_loss: 0.07923, AUC ROC: 0.963 time: 0.00000\n",
      "Time: 2021-06-28T12:53:24.801507 \n",
      "\n"
     ]
    },
    {
     "data": {
      "application/vnd.jupyter.widget-view+json": {
       "model_id": "e5692f6c5f9e46cb99d0321d642e7efd",
       "version_major": 2,
       "version_minor": 0
      },
      "text/plain": [
       "  0%|                                                                                                         …"
      ]
     },
     "metadata": {},
     "output_type": "display_data"
    },
    {
     "name": "stdout",
     "output_type": "stream",
     "text": [
      "[RESULT]: Train. Epoch: 5, summary_loss: 0.11149, AUC_ROC: 0.942 time: 1961.93847\n"
     ]
    },
    {
     "data": {
      "application/vnd.jupyter.widget-view+json": {
       "model_id": "a072215ee5a74c2d9f05d7c15e3e6283",
       "version_major": 2,
       "version_minor": 0
      },
      "text/plain": [
       "  0%|                                                                                                         …"
      ]
     },
     "metadata": {},
     "output_type": "display_data"
    },
    {
     "name": "stdout",
     "output_type": "stream",
     "text": [
      "[RESULT]: Val. Epoch: 5, summary_loss: 0.08177, AUC ROC: 0.965 time: 0.00000\n",
      "Time: 2021-06-28T13:31:57.478639 \n",
      "\n"
     ]
    },
    {
     "data": {
      "application/vnd.jupyter.widget-view+json": {
       "model_id": "12fcb7ed0d1e42cd84246ef41068c5fe",
       "version_major": 2,
       "version_minor": 0
      },
      "text/plain": [
       "  0%|                                                                                                         …"
      ]
     },
     "metadata": {},
     "output_type": "display_data"
    },
    {
     "name": "stdout",
     "output_type": "stream",
     "text": [
      "[RESULT]: Train. Epoch: 6, summary_loss: 0.10659, AUC_ROC: 0.945 time: 1993.43536\n"
     ]
    },
    {
     "data": {
      "application/vnd.jupyter.widget-view+json": {
       "model_id": "3491639590724887b41a9b09a87cbc6b",
       "version_major": 2,
       "version_minor": 0
      },
      "text/plain": [
       "  0%|                                                                                                         …"
      ]
     },
     "metadata": {},
     "output_type": "display_data"
    },
    {
     "name": "stdout",
     "output_type": "stream",
     "text": [
      "[RESULT]: Val. Epoch: 6, summary_loss: 0.07618, AUC ROC: 0.967 time: 0.00000\n",
      "Time: 2021-06-28T14:11:13.339288 \n",
      "\n"
     ]
    },
    {
     "data": {
      "application/vnd.jupyter.widget-view+json": {
       "model_id": "1c4cc2616a9e4f19bd2ae0f4df070d5f",
       "version_major": 2,
       "version_minor": 0
      },
      "text/plain": [
       "  0%|                                                                                                         …"
      ]
     },
     "metadata": {},
     "output_type": "display_data"
    },
    {
     "name": "stdout",
     "output_type": "stream",
     "text": [
      "[RESULT]: Train. Epoch: 7, summary_loss: 0.10003, AUC_ROC: 0.950 time: 1966.91273\n"
     ]
    },
    {
     "data": {
      "application/vnd.jupyter.widget-view+json": {
       "model_id": "9e9af0acaad04a1a99c453259ac04b89",
       "version_major": 2,
       "version_minor": 0
      },
      "text/plain": [
       "  0%|                                                                                                         …"
      ]
     },
     "metadata": {},
     "output_type": "display_data"
    },
    {
     "name": "stdout",
     "output_type": "stream",
     "text": [
      "[RESULT]: Val. Epoch: 7, summary_loss: 0.08125, AUC ROC: 0.964 time: 0.00000\n",
      "Time: 2021-06-28T14:49:56.843996 \n",
      "\n"
     ]
    },
    {
     "data": {
      "application/vnd.jupyter.widget-view+json": {
       "model_id": "18d0e6d32e194e4d9d74531a9cc53e07",
       "version_major": 2,
       "version_minor": 0
      },
      "text/plain": [
       "  0%|                                                                                                         …"
      ]
     },
     "metadata": {},
     "output_type": "display_data"
    },
    {
     "name": "stdout",
     "output_type": "stream",
     "text": [
      "[RESULT]: Train. Epoch: 8, summary_loss: 0.10066, AUC_ROC: 0.951 time: 2013.94657\n"
     ]
    },
    {
     "data": {
      "application/vnd.jupyter.widget-view+json": {
       "model_id": "2d335698701c44bd9ac7c6a1a117f10e",
       "version_major": 2,
       "version_minor": 0
      },
      "text/plain": [
       "  0%|                                                                                                         …"
      ]
     },
     "metadata": {},
     "output_type": "display_data"
    },
    {
     "name": "stdout",
     "output_type": "stream",
     "text": [
      "[RESULT]: Val. Epoch: 8, summary_loss: 0.08022, AUC ROC: 0.966 time: 0.00000\n",
      "Time: 2021-06-28T15:29:32.459740 \n",
      "\n"
     ]
    },
    {
     "data": {
      "application/vnd.jupyter.widget-view+json": {
       "model_id": "c14b4b7783f04480a82f96f37c278fb3",
       "version_major": 2,
       "version_minor": 0
      },
      "text/plain": [
       "  0%|                                                                                                         …"
      ]
     },
     "metadata": {},
     "output_type": "display_data"
    },
    {
     "name": "stdout",
     "output_type": "stream",
     "text": [
      "[RESULT]: Train. Epoch: 9, summary_loss: 0.08926, AUC_ROC: 0.961 time: 2010.90335\n"
     ]
    },
    {
     "data": {
      "application/vnd.jupyter.widget-view+json": {
       "model_id": "6b3c3c245fb94de498cc61f746d04a25",
       "version_major": 2,
       "version_minor": 0
      },
      "text/plain": [
       "  0%|                                                                                                         …"
      ]
     },
     "metadata": {},
     "output_type": "display_data"
    },
    {
     "name": "stdout",
     "output_type": "stream",
     "text": [
      "[RESULT]: Val. Epoch: 9, summary_loss: 0.06975, AUC ROC: 0.971 time: 0.00000\n",
      "Time: 2021-06-28T16:09:02.862428 \n",
      "\n"
     ]
    },
    {
     "data": {
      "application/vnd.jupyter.widget-view+json": {
       "model_id": "c94b1e9a41944bc6b7668619d8f11f23",
       "version_major": 2,
       "version_minor": 0
      },
      "text/plain": [
       "  0%|                                                                                                         …"
      ]
     },
     "metadata": {},
     "output_type": "display_data"
    },
    {
     "name": "stdout",
     "output_type": "stream",
     "text": [
      "[RESULT]: Train. Epoch: 10, summary_loss: 0.08203, AUC_ROC: 0.965 time: 2020.51382\n"
     ]
    },
    {
     "data": {
      "application/vnd.jupyter.widget-view+json": {
       "model_id": "b2302cbc8d9c434581545f34821de15e",
       "version_major": 2,
       "version_minor": 0
      },
      "text/plain": [
       "  0%|                                                                                                         …"
      ]
     },
     "metadata": {},
     "output_type": "display_data"
    },
    {
     "name": "stdout",
     "output_type": "stream",
     "text": [
      "[RESULT]: Val. Epoch: 10, summary_loss: 0.06889, AUC ROC: 0.970 time: 0.00000\n",
      "Time: 2021-06-28T16:48:44.268190 \n",
      "\n"
     ]
    },
    {
     "data": {
      "application/vnd.jupyter.widget-view+json": {
       "model_id": "1a68c45496144323af9f7515f8e4f087",
       "version_major": 2,
       "version_minor": 0
      },
      "text/plain": [
       "  0%|                                                                                                         …"
      ]
     },
     "metadata": {},
     "output_type": "display_data"
    },
    {
     "name": "stdout",
     "output_type": "stream",
     "text": [
      "[RESULT]: Train. Epoch: 11, summary_loss: 0.07869, AUC_ROC: 0.971 time: 2012.52800\n"
     ]
    },
    {
     "data": {
      "application/vnd.jupyter.widget-view+json": {
       "model_id": "5ca629b00692498cad65addb13d430cf",
       "version_major": 2,
       "version_minor": 0
      },
      "text/plain": [
       "  0%|                                                                                                         …"
      ]
     },
     "metadata": {},
     "output_type": "display_data"
    },
    {
     "name": "stdout",
     "output_type": "stream",
     "text": [
      "[RESULT]: Val. Epoch: 11, summary_loss: 0.07381, AUC ROC: 0.968 time: 0.00000\n",
      "Time: 2021-06-28T17:28:14.961524 \n",
      "\n"
     ]
    },
    {
     "data": {
      "application/vnd.jupyter.widget-view+json": {
       "model_id": "5be641394a6642839a8dd74a45541a5e",
       "version_major": 2,
       "version_minor": 0
      },
      "text/plain": [
       "  0%|                                                                                                         …"
      ]
     },
     "metadata": {},
     "output_type": "display_data"
    },
    {
     "name": "stdout",
     "output_type": "stream",
     "text": [
      "[RESULT]: Train. Epoch: 12, summary_loss: 0.07805, AUC_ROC: 0.970 time: 2004.84916\n"
     ]
    },
    {
     "data": {
      "application/vnd.jupyter.widget-view+json": {
       "model_id": "42c58e1847c44c8db022f28aa58ea789",
       "version_major": 2,
       "version_minor": 0
      },
      "text/plain": [
       "  0%|                                                                                                         …"
      ]
     },
     "metadata": {},
     "output_type": "display_data"
    },
    {
     "name": "stdout",
     "output_type": "stream",
     "text": [
      "[RESULT]: Val. Epoch: 12, summary_loss: 0.07679, AUC ROC: 0.968 time: 0.00000\n",
      "Time: 2021-06-28T18:07:44.369448 \n",
      "\n"
     ]
    },
    {
     "data": {
      "application/vnd.jupyter.widget-view+json": {
       "model_id": "aab1d74b5881457b9a1f282f519cfdd3",
       "version_major": 2,
       "version_minor": 0
      },
      "text/plain": [
       "  0%|                                                                                                         …"
      ]
     },
     "metadata": {},
     "output_type": "display_data"
    },
    {
     "name": "stdout",
     "output_type": "stream",
     "text": [
      "[RESULT]: Train. Epoch: 13, summary_loss: 0.07101, AUC_ROC: 0.977 time: 2012.50615\n"
     ]
    },
    {
     "data": {
      "application/vnd.jupyter.widget-view+json": {
       "model_id": "5cf31bd67d6643298e8b2123836a27e7",
       "version_major": 2,
       "version_minor": 0
      },
      "text/plain": [
       "  0%|                                                                                                         …"
      ]
     },
     "metadata": {},
     "output_type": "display_data"
    },
    {
     "name": "stdout",
     "output_type": "stream",
     "text": [
      "[RESULT]: Val. Epoch: 13, summary_loss: 0.06956, AUC ROC: 0.970 time: 0.00000\n",
      "Time: 2021-06-28T18:47:16.180178 \n",
      "\n"
     ]
    },
    {
     "data": {
      "application/vnd.jupyter.widget-view+json": {
       "model_id": "a5689bf8c6cf4f128c6675d4125618dd",
       "version_major": 2,
       "version_minor": 0
      },
      "text/plain": [
       "  0%|                                                                                                         …"
      ]
     },
     "metadata": {},
     "output_type": "display_data"
    },
    {
     "name": "stdout",
     "output_type": "stream",
     "text": [
      "[RESULT]: Train. Epoch: 14, summary_loss: 0.06698, AUC_ROC: 0.980 time: 2006.43813\n"
     ]
    },
    {
     "data": {
      "application/vnd.jupyter.widget-view+json": {
       "model_id": "1411ca798dc346fd954f2e03f1ec8f11",
       "version_major": 2,
       "version_minor": 0
      },
      "text/plain": [
       "  0%|                                                                                                         …"
      ]
     },
     "metadata": {},
     "output_type": "display_data"
    },
    {
     "name": "stdout",
     "output_type": "stream",
     "text": [
      "[RESULT]: Val. Epoch: 14, summary_loss: 0.08161, AUC ROC: 0.967 time: 0.00000\n",
      "Time: 2021-06-28T19:26:45.028591 \n",
      "\n"
     ]
    },
    {
     "data": {
      "application/vnd.jupyter.widget-view+json": {
       "model_id": "6883011b92934dc4ac0e2a6278035ef2",
       "version_major": 2,
       "version_minor": 0
      },
      "text/plain": [
       "  0%|                                                                                                         …"
      ]
     },
     "metadata": {},
     "output_type": "display_data"
    },
    {
     "name": "stdout",
     "output_type": "stream",
     "text": [
      "[RESULT]: Train. Epoch: 15, summary_loss: 0.06629, AUC_ROC: 0.979 time: 2005.82108\n"
     ]
    },
    {
     "data": {
      "application/vnd.jupyter.widget-view+json": {
       "model_id": "0ec61ccca0194c3b9d846c2decd3f6f7",
       "version_major": 2,
       "version_minor": 0
      },
      "text/plain": [
       "  0%|                                                                                                         …"
      ]
     },
     "metadata": {},
     "output_type": "display_data"
    },
    {
     "name": "stdout",
     "output_type": "stream",
     "text": [
      "[RESULT]: Val. Epoch: 15, summary_loss: 0.07483, AUC ROC: 0.967 time: 0.00000\n",
      "Time: 2021-06-28T20:06:09.000998 \n",
      "\n"
     ]
    },
    {
     "data": {
      "application/vnd.jupyter.widget-view+json": {
       "model_id": "0b90d2b5325044fab4b005a17e37e9fa",
       "version_major": 2,
       "version_minor": 0
      },
      "text/plain": [
       "  0%|                                                                                                         …"
      ]
     },
     "metadata": {},
     "output_type": "display_data"
    },
    {
     "name": "stdout",
     "output_type": "stream",
     "text": [
      "[RESULT]: Train. Epoch: 16, summary_loss: 0.06464, AUC_ROC: 0.981 time: 2017.25079\n"
     ]
    },
    {
     "data": {
      "application/vnd.jupyter.widget-view+json": {
       "model_id": "7d4258f5c57543008f2bbade88e0a604",
       "version_major": 2,
       "version_minor": 0
      },
      "text/plain": [
       "  0%|                                                                                                         …"
      ]
     },
     "metadata": {},
     "output_type": "display_data"
    },
    {
     "name": "stdout",
     "output_type": "stream",
     "text": [
      "[RESULT]: Val. Epoch: 16, summary_loss: 0.07542, AUC ROC: 0.969 time: 0.00000\n",
      "Time: 2021-06-28T20:45:49.961364 \n",
      "\n"
     ]
    },
    {
     "data": {
      "application/vnd.jupyter.widget-view+json": {
       "model_id": "a2dd6f03a0584811a371ee7dbb6fb951",
       "version_major": 2,
       "version_minor": 0
      },
      "text/plain": [
       "  0%|                                                                                                         …"
      ]
     },
     "metadata": {},
     "output_type": "display_data"
    },
    {
     "name": "stdout",
     "output_type": "stream",
     "text": [
      "[RESULT]: Train. Epoch: 17, summary_loss: 0.06259, AUC_ROC: 0.982 time: 2010.87641\n"
     ]
    },
    {
     "data": {
      "application/vnd.jupyter.widget-view+json": {
       "model_id": "38f9fbe9b1434e0691bc1e7ef5f0db16",
       "version_major": 2,
       "version_minor": 0
      },
      "text/plain": [
       "  0%|                                                                                                         …"
      ]
     },
     "metadata": {},
     "output_type": "display_data"
    },
    {
     "name": "stdout",
     "output_type": "stream",
     "text": [
      "[RESULT]: Val. Epoch: 17, summary_loss: 0.08104, AUC ROC: 0.968 time: 0.00000\n",
      "Time: 2021-06-28T21:25:20.202371 \n",
      "\n"
     ]
    },
    {
     "data": {
      "application/vnd.jupyter.widget-view+json": {
       "model_id": "7caf254e81604dc0a0a1e65225278bd2",
       "version_major": 2,
       "version_minor": 0
      },
      "text/plain": [
       "  0%|                                                                                                         …"
      ]
     },
     "metadata": {},
     "output_type": "display_data"
    },
    {
     "name": "stdout",
     "output_type": "stream",
     "text": [
      "[RESULT]: Train. Epoch: 18, summary_loss: 0.06256, AUC_ROC: 0.982 time: 2013.65113\n"
     ]
    },
    {
     "data": {
      "application/vnd.jupyter.widget-view+json": {
       "model_id": "df789632273144369c4a98b2942c2294",
       "version_major": 2,
       "version_minor": 0
      },
      "text/plain": [
       "  0%|                                                                                                         …"
      ]
     },
     "metadata": {},
     "output_type": "display_data"
    },
    {
     "name": "stdout",
     "output_type": "stream",
     "text": [
      "[RESULT]: Val. Epoch: 18, summary_loss: 0.07909, AUC ROC: 0.967 time: 0.00000\n",
      "Time: 2021-06-28T22:04:57.024956 \n",
      "\n"
     ]
    },
    {
     "data": {
      "application/vnd.jupyter.widget-view+json": {
       "model_id": "95f0fecaf738427b821adf5a6b7defa7",
       "version_major": 2,
       "version_minor": 0
      },
      "text/plain": [
       "  0%|                                                                                                         …"
      ]
     },
     "metadata": {},
     "output_type": "display_data"
    },
    {
     "name": "stdout",
     "output_type": "stream",
     "text": [
      "[RESULT]: Train. Epoch: 19, summary_loss: 0.06495, AUC_ROC: 0.981 time: 2018.83118\n"
     ]
    },
    {
     "data": {
      "application/vnd.jupyter.widget-view+json": {
       "model_id": "ede404b934e447f0952e2d495f702596",
       "version_major": 2,
       "version_minor": 0
      },
      "text/plain": [
       "  0%|                                                                                                         …"
      ]
     },
     "metadata": {},
     "output_type": "display_data"
    },
    {
     "name": "stdout",
     "output_type": "stream",
     "text": [
      "[RESULT]: Val. Epoch: 19, summary_loss: 0.07796, AUC ROC: 0.968 time: 0.00000\n",
      "Time: 2021-06-28T22:44:37.341209 \n",
      "\n"
     ]
    },
    {
     "data": {
      "application/vnd.jupyter.widget-view+json": {
       "model_id": "6fc9f20699264dc8bef4340705b72271",
       "version_major": 2,
       "version_minor": 0
      },
      "text/plain": [
       "  0%|                                                                                                         …"
      ]
     },
     "metadata": {},
     "output_type": "display_data"
    },
    {
     "name": "stdout",
     "output_type": "stream",
     "text": [
      "[RESULT]: Train. Epoch: 20, summary_loss: 0.06119, AUC_ROC: 0.982 time: 2006.86011\n"
     ]
    },
    {
     "data": {
      "application/vnd.jupyter.widget-view+json": {
       "model_id": "a219a1be2b774f89b052faeb4e33179f",
       "version_major": 2,
       "version_minor": 0
      },
      "text/plain": [
       "  0%|                                                                                                         …"
      ]
     },
     "metadata": {},
     "output_type": "display_data"
    },
    {
     "name": "stdout",
     "output_type": "stream",
     "text": [
      "[RESULT]: Val. Epoch: 20, summary_loss: 0.08018, AUC ROC: 0.967 time: 0.00000\n",
      "Time: 2021-06-28T23:24:06.642841 \n",
      "\n"
     ]
    },
    {
     "data": {
      "application/vnd.jupyter.widget-view+json": {
       "model_id": "7bfa4f3f0a4b4cb382f86d9433c35bd8",
       "version_major": 2,
       "version_minor": 0
      },
      "text/plain": [
       "  0%|                                                                                                         …"
      ]
     },
     "metadata": {},
     "output_type": "display_data"
    },
    {
     "name": "stdout",
     "output_type": "stream",
     "text": [
      "[RESULT]: Train. Epoch: 21, summary_loss: 0.05944, AUC_ROC: 0.984 time: 2014.82692\n"
     ]
    },
    {
     "data": {
      "application/vnd.jupyter.widget-view+json": {
       "model_id": "7267c9d0cf294e378472db464918a8c8",
       "version_major": 2,
       "version_minor": 0
      },
      "text/plain": [
       "  0%|                                                                                                         …"
      ]
     },
     "metadata": {},
     "output_type": "display_data"
    },
    {
     "name": "stdout",
     "output_type": "stream",
     "text": [
      "[RESULT]: Val. Epoch: 21, summary_loss: 0.07744, AUC ROC: 0.967 time: 0.00000\n",
      "Time: 2021-06-29T00:03:41.053423 \n",
      "\n"
     ]
    },
    {
     "data": {
      "application/vnd.jupyter.widget-view+json": {
       "model_id": "4e2c7472cba94a92a1a38834f266b8c0",
       "version_major": 2,
       "version_minor": 0
      },
      "text/plain": [
       "  0%|                                                                                                         …"
      ]
     },
     "metadata": {},
     "output_type": "display_data"
    },
    {
     "name": "stdout",
     "output_type": "stream",
     "text": [
      "[RESULT]: Train. Epoch: 22, summary_loss: 0.06305, AUC_ROC: 0.981 time: 2024.95963\n"
     ]
    },
    {
     "data": {
      "application/vnd.jupyter.widget-view+json": {
       "model_id": "c815911488fa478f95020f8707c930f8",
       "version_major": 2,
       "version_minor": 0
      },
      "text/plain": [
       "  0%|                                                                                                         …"
      ]
     },
     "metadata": {},
     "output_type": "display_data"
    },
    {
     "name": "stdout",
     "output_type": "stream",
     "text": [
      "[RESULT]: Val. Epoch: 22, summary_loss: 0.08937, AUC ROC: 0.966 time: 0.00000\n",
      "Time: 2021-06-29T00:43:28.075782 \n",
      "\n"
     ]
    },
    {
     "data": {
      "application/vnd.jupyter.widget-view+json": {
       "model_id": "a0ee81348b894fe0b05053a34dcc81b1",
       "version_major": 2,
       "version_minor": 0
      },
      "text/plain": [
       "  0%|                                                                                                         …"
      ]
     },
     "metadata": {},
     "output_type": "display_data"
    },
    {
     "name": "stdout",
     "output_type": "stream",
     "text": [
      "[RESULT]: Train. Epoch: 23, summary_loss: 0.05804, AUC_ROC: 0.984 time: 2000.39667\n"
     ]
    },
    {
     "data": {
      "application/vnd.jupyter.widget-view+json": {
       "model_id": "34be2e70967e41ebad74ed979abf7230",
       "version_major": 2,
       "version_minor": 0
      },
      "text/plain": [
       "  0%|                                                                                                         …"
      ]
     },
     "metadata": {},
     "output_type": "display_data"
    },
    {
     "name": "stdout",
     "output_type": "stream",
     "text": [
      "[RESULT]: Val. Epoch: 23, summary_loss: 0.07994, AUC ROC: 0.967 time: 0.00000\n",
      "Time: 2021-06-29T01:22:48.729671 \n",
      "\n"
     ]
    },
    {
     "data": {
      "application/vnd.jupyter.widget-view+json": {
       "model_id": "d08022a25a1b49b19aa357971bca135c",
       "version_major": 2,
       "version_minor": 0
      },
      "text/plain": [
       "  0%|                                                                                                         …"
      ]
     },
     "metadata": {},
     "output_type": "display_data"
    },
    {
     "name": "stdout",
     "output_type": "stream",
     "text": [
      "[RESULT]: Train. Epoch: 24, summary_loss: 0.06108, AUC_ROC: 0.983 time: 2015.05646\n"
     ]
    },
    {
     "data": {
      "application/vnd.jupyter.widget-view+json": {
       "model_id": "4fd613ec61304f1483ac51b2dfa44206",
       "version_major": 2,
       "version_minor": 0
      },
      "text/plain": [
       "  0%|                                                                                                         …"
      ]
     },
     "metadata": {},
     "output_type": "display_data"
    },
    {
     "name": "stdout",
     "output_type": "stream",
     "text": [
      "[RESULT]: Val. Epoch: 24, summary_loss: 0.07686, AUC ROC: 0.967 time: 0.00000\n",
      "START NEW FOLD\n",
      "Time: 2021-06-29T02:02:25.367737 \n",
      "\n"
     ]
    },
    {
     "data": {
      "application/vnd.jupyter.widget-view+json": {
       "model_id": "920aa371f6e64b7782d98c25ecb04ffd",
       "version_major": 2,
       "version_minor": 0
      },
      "text/plain": [
       "  0%|                                                                                                         …"
      ]
     },
     "metadata": {},
     "output_type": "display_data"
    },
    {
     "name": "stdout",
     "output_type": "stream",
     "text": [
      "[RESULT]: Train. Epoch: 0, summary_loss: 0.23513, AUC_ROC: 0.757 time: 1890.91271\n"
     ]
    },
    {
     "data": {
      "application/vnd.jupyter.widget-view+json": {
       "model_id": "20f9140d112a4926b066a0794d8dcd33",
       "version_major": 2,
       "version_minor": 0
      },
      "text/plain": [
       "  0%|                                                                                                         …"
      ]
     },
     "metadata": {},
     "output_type": "display_data"
    },
    {
     "name": "stdout",
     "output_type": "stream",
     "text": [
      "[RESULT]: Val. Epoch: 0, summary_loss: 0.11920, AUC ROC: 0.937 time: 0.00000\n",
      "Time: 2021-06-29T02:39:59.207845 \n",
      "\n"
     ]
    },
    {
     "data": {
      "application/vnd.jupyter.widget-view+json": {
       "model_id": "558498cdf21f4ed3b3230db7fd83b4e5",
       "version_major": 2,
       "version_minor": 0
      },
      "text/plain": [
       "  0%|                                                                                                         …"
      ]
     },
     "metadata": {},
     "output_type": "display_data"
    },
    {
     "name": "stdout",
     "output_type": "stream",
     "text": [
      "[RESULT]: Train. Epoch: 1, summary_loss: 0.15946, AUC_ROC: 0.886 time: 2012.75645\n"
     ]
    },
    {
     "data": {
      "application/vnd.jupyter.widget-view+json": {
       "model_id": "38e06275532d4f1bb9ffd681f1a6aa5d",
       "version_major": 2,
       "version_minor": 0
      },
      "text/plain": [
       "  0%|                                                                                                         …"
      ]
     },
     "metadata": {},
     "output_type": "display_data"
    },
    {
     "name": "stdout",
     "output_type": "stream",
     "text": [
      "[RESULT]: Val. Epoch: 1, summary_loss: 0.10426, AUC ROC: 0.950 time: 0.00000\n",
      "Time: 2021-06-29T03:19:28.143180 \n",
      "\n"
     ]
    },
    {
     "data": {
      "application/vnd.jupyter.widget-view+json": {
       "model_id": "47c088f741c14a1a9068579d7b7c5d26",
       "version_major": 2,
       "version_minor": 0
      },
      "text/plain": [
       "  0%|                                                                                                         …"
      ]
     },
     "metadata": {},
     "output_type": "display_data"
    },
    {
     "name": "stdout",
     "output_type": "stream",
     "text": [
      "[RESULT]: Train. Epoch: 2, summary_loss: 0.14106, AUC_ROC: 0.910 time: 2009.90072\n"
     ]
    },
    {
     "data": {
      "application/vnd.jupyter.widget-view+json": {
       "model_id": "fe4c15e368d84630b049d96cefad608e",
       "version_major": 2,
       "version_minor": 0
      },
      "text/plain": [
       "  0%|                                                                                                         …"
      ]
     },
     "metadata": {},
     "output_type": "display_data"
    },
    {
     "name": "stdout",
     "output_type": "stream",
     "text": [
      "[RESULT]: Val. Epoch: 2, summary_loss: 0.07851, AUC ROC: 0.968 time: 0.00000\n",
      "Time: 2021-06-29T03:59:00.439183 \n",
      "\n"
     ]
    },
    {
     "data": {
      "application/vnd.jupyter.widget-view+json": {
       "model_id": "7e313e3232964088b7829de2773051e5",
       "version_major": 2,
       "version_minor": 0
      },
      "text/plain": [
       "  0%|                                                                                                         …"
      ]
     },
     "metadata": {},
     "output_type": "display_data"
    },
    {
     "name": "stdout",
     "output_type": "stream",
     "text": [
      "[RESULT]: Train. Epoch: 3, summary_loss: 0.13046, AUC_ROC: 0.922 time: 2012.40053\n"
     ]
    },
    {
     "data": {
      "application/vnd.jupyter.widget-view+json": {
       "model_id": "349212887d8442778464328c93ad5f2d",
       "version_major": 2,
       "version_minor": 0
      },
      "text/plain": [
       "  0%|                                                                                                         …"
      ]
     },
     "metadata": {},
     "output_type": "display_data"
    },
    {
     "name": "stdout",
     "output_type": "stream",
     "text": [
      "[RESULT]: Val. Epoch: 3, summary_loss: 0.07489, AUC ROC: 0.971 time: 0.00000\n",
      "Time: 2021-06-29T04:38:31.985261 \n",
      "\n"
     ]
    },
    {
     "data": {
      "application/vnd.jupyter.widget-view+json": {
       "model_id": "05b4b5a8063d44bc9d4e29cd960c15ee",
       "version_major": 2,
       "version_minor": 0
      },
      "text/plain": [
       "  0%|                                                                                                         …"
      ]
     },
     "metadata": {},
     "output_type": "display_data"
    },
    {
     "name": "stdout",
     "output_type": "stream",
     "text": [
      "[RESULT]: Train. Epoch: 4, summary_loss: 0.11942, AUC_ROC: 0.932 time: 2019.61265\n"
     ]
    },
    {
     "data": {
      "application/vnd.jupyter.widget-view+json": {
       "model_id": "709dd462caf74791ab1d378b2c64931c",
       "version_major": 2,
       "version_minor": 0
      },
      "text/plain": [
       "  0%|                                                                                                         …"
      ]
     },
     "metadata": {},
     "output_type": "display_data"
    },
    {
     "name": "stdout",
     "output_type": "stream",
     "text": [
      "[RESULT]: Val. Epoch: 4, summary_loss: 0.07254, AUC ROC: 0.973 time: 0.00000\n",
      "Time: 2021-06-29T05:18:14.394284 \n",
      "\n"
     ]
    },
    {
     "data": {
      "application/vnd.jupyter.widget-view+json": {
       "model_id": "15abdc1ab55e4c88bfdf7339eea96e8d",
       "version_major": 2,
       "version_minor": 0
      },
      "text/plain": [
       "  0%|                                                                                                         …"
      ]
     },
     "metadata": {},
     "output_type": "display_data"
    },
    {
     "name": "stdout",
     "output_type": "stream",
     "text": [
      "[RESULT]: Train. Epoch: 5, summary_loss: 0.11568, AUC_ROC: 0.938 time: 1987.22675\n"
     ]
    },
    {
     "data": {
      "application/vnd.jupyter.widget-view+json": {
       "model_id": "724d512c2b5e405384193a1deea8d2ef",
       "version_major": 2,
       "version_minor": 0
      },
      "text/plain": [
       "  0%|                                                                                                         …"
      ]
     },
     "metadata": {},
     "output_type": "display_data"
    },
    {
     "name": "stdout",
     "output_type": "stream",
     "text": [
      "[RESULT]: Val. Epoch: 5, summary_loss: 0.06745, AUC ROC: 0.972 time: 0.00000\n",
      "Time: 2021-06-29T05:57:17.220167 \n",
      "\n"
     ]
    },
    {
     "data": {
      "application/vnd.jupyter.widget-view+json": {
       "model_id": "7424e3f8addc497b9ad577a42f4cbae6",
       "version_major": 2,
       "version_minor": 0
      },
      "text/plain": [
       "  0%|                                                                                                         …"
      ]
     },
     "metadata": {},
     "output_type": "display_data"
    },
    {
     "name": "stdout",
     "output_type": "stream",
     "text": [
      "[RESULT]: Train. Epoch: 6, summary_loss: 0.11240, AUC_ROC: 0.941 time: 1958.06274\n"
     ]
    },
    {
     "data": {
      "application/vnd.jupyter.widget-view+json": {
       "model_id": "bfcfc30eefc04654b14c86bab3675dec",
       "version_major": 2,
       "version_minor": 0
      },
      "text/plain": [
       "  0%|                                                                                                         …"
      ]
     },
     "metadata": {},
     "output_type": "display_data"
    },
    {
     "name": "stdout",
     "output_type": "stream",
     "text": [
      "[RESULT]: Val. Epoch: 6, summary_loss: 0.06830, AUC ROC: 0.971 time: 0.00000\n",
      "Time: 2021-06-29T06:35:49.345820 \n",
      "\n"
     ]
    },
    {
     "data": {
      "application/vnd.jupyter.widget-view+json": {
       "model_id": "2e7302408a084d68a0bf95cd6eb8cbbc",
       "version_major": 2,
       "version_minor": 0
      },
      "text/plain": [
       "  0%|                                                                                                         …"
      ]
     },
     "metadata": {},
     "output_type": "display_data"
    },
    {
     "name": "stdout",
     "output_type": "stream",
     "text": [
      "[RESULT]: Train. Epoch: 7, summary_loss: 0.10913, AUC_ROC: 0.945 time: 1964.36044\n"
     ]
    },
    {
     "data": {
      "application/vnd.jupyter.widget-view+json": {
       "model_id": "2be0030e41784d37aa6f143a66620125",
       "version_major": 2,
       "version_minor": 0
      },
      "text/plain": [
       "  0%|                                                                                                         …"
      ]
     },
     "metadata": {},
     "output_type": "display_data"
    },
    {
     "name": "stdout",
     "output_type": "stream",
     "text": [
      "[RESULT]: Val. Epoch: 7, summary_loss: 0.05911, AUC ROC: 0.978 time: 0.00000\n",
      "Time: 2021-06-29T07:14:27.393213 \n",
      "\n"
     ]
    },
    {
     "data": {
      "application/vnd.jupyter.widget-view+json": {
       "model_id": "75c504dacf824df19e05255860d0dd39",
       "version_major": 2,
       "version_minor": 0
      },
      "text/plain": [
       "  0%|                                                                                                         …"
      ]
     },
     "metadata": {},
     "output_type": "display_data"
    },
    {
     "name": "stdout",
     "output_type": "stream",
     "text": [
      "[RESULT]: Train. Epoch: 8, summary_loss: 0.10247, AUC_ROC: 0.949 time: 1995.05194\n"
     ]
    },
    {
     "data": {
      "application/vnd.jupyter.widget-view+json": {
       "model_id": "9b3bc7dbce9a46f9b52007440de5ebdc",
       "version_major": 2,
       "version_minor": 0
      },
      "text/plain": [
       "  0%|                                                                                                         …"
      ]
     },
     "metadata": {},
     "output_type": "display_data"
    },
    {
     "name": "stdout",
     "output_type": "stream",
     "text": [
      "[RESULT]: Val. Epoch: 8, summary_loss: 0.06153, AUC ROC: 0.976 time: 0.00000\n",
      "Time: 2021-06-29T07:53:44.902020 \n",
      "\n"
     ]
    },
    {
     "data": {
      "application/vnd.jupyter.widget-view+json": {
       "model_id": "0e7444e855f8420a8f9148328ba48a1b",
       "version_major": 2,
       "version_minor": 0
      },
      "text/plain": [
       "  0%|                                                                                                         …"
      ]
     },
     "metadata": {},
     "output_type": "display_data"
    },
    {
     "name": "stdout",
     "output_type": "stream",
     "text": [
      "[RESULT]: Train. Epoch: 9, summary_loss: 0.09951, AUC_ROC: 0.952 time: 1995.34432\n"
     ]
    },
    {
     "data": {
      "application/vnd.jupyter.widget-view+json": {
       "model_id": "88129c7c824443f7950d4bdbb4970ee4",
       "version_major": 2,
       "version_minor": 0
      },
      "text/plain": [
       "  0%|                                                                                                         …"
      ]
     },
     "metadata": {},
     "output_type": "display_data"
    },
    {
     "name": "stdout",
     "output_type": "stream",
     "text": [
      "[RESULT]: Val. Epoch: 9, summary_loss: 0.06649, AUC ROC: 0.975 time: 0.00000\n",
      "Time: 2021-06-29T08:32:55.531789 \n",
      "\n"
     ]
    },
    {
     "data": {
      "application/vnd.jupyter.widget-view+json": {
       "model_id": "1d2e055822d94737af817a4393ae4aac",
       "version_major": 2,
       "version_minor": 0
      },
      "text/plain": [
       "  0%|                                                                                                         …"
      ]
     },
     "metadata": {},
     "output_type": "display_data"
    },
    {
     "name": "stdout",
     "output_type": "stream",
     "text": [
      "[RESULT]: Train. Epoch: 10, summary_loss: 0.08925, AUC_ROC: 0.960 time: 1970.26490\n"
     ]
    },
    {
     "data": {
      "application/vnd.jupyter.widget-view+json": {
       "model_id": "cfa4491d78c64eccba19decd1ec47e28",
       "version_major": 2,
       "version_minor": 0
      },
      "text/plain": [
       "  0%|                                                                                                         …"
      ]
     },
     "metadata": {},
     "output_type": "display_data"
    },
    {
     "name": "stdout",
     "output_type": "stream",
     "text": [
      "[RESULT]: Val. Epoch: 10, summary_loss: 0.05292, AUC ROC: 0.981 time: 0.00000\n",
      "Time: 2021-06-29T09:11:43.973025 \n",
      "\n"
     ]
    },
    {
     "data": {
      "application/vnd.jupyter.widget-view+json": {
       "model_id": "b3ff1794b1dd4a9883d4292c4d292422",
       "version_major": 2,
       "version_minor": 0
      },
      "text/plain": [
       "  0%|                                                                                                         …"
      ]
     },
     "metadata": {},
     "output_type": "display_data"
    },
    {
     "name": "stdout",
     "output_type": "stream",
     "text": [
      "[RESULT]: Train. Epoch: 11, summary_loss: 0.08330, AUC_ROC: 0.967 time: 2018.77316\n"
     ]
    },
    {
     "data": {
      "application/vnd.jupyter.widget-view+json": {
       "model_id": "6eea7a3053594c5b9b92e3cf197fcf33",
       "version_major": 2,
       "version_minor": 0
      },
      "text/plain": [
       "  0%|                                                                                                         …"
      ]
     },
     "metadata": {},
     "output_type": "display_data"
    },
    {
     "name": "stdout",
     "output_type": "stream",
     "text": [
      "[RESULT]: Val. Epoch: 11, summary_loss: 0.05655, AUC ROC: 0.980 time: 0.00000\n",
      "Time: 2021-06-29T09:51:17.884760 \n",
      "\n"
     ]
    },
    {
     "data": {
      "application/vnd.jupyter.widget-view+json": {
       "model_id": "0c5b3b37d9dc4025b3b6d728a95cf1fc",
       "version_major": 2,
       "version_minor": 0
      },
      "text/plain": [
       "  0%|                                                                                                         …"
      ]
     },
     "metadata": {},
     "output_type": "display_data"
    },
    {
     "name": "stdout",
     "output_type": "stream",
     "text": [
      "[RESULT]: Train. Epoch: 12, summary_loss: 0.08461, AUC_ROC: 0.965 time: 1991.21563\n"
     ]
    },
    {
     "data": {
      "application/vnd.jupyter.widget-view+json": {
       "model_id": "864551fb3b9c4a63ade802450bab1fb1",
       "version_major": 2,
       "version_minor": 0
      },
      "text/plain": [
       "  0%|                                                                                                         …"
      ]
     },
     "metadata": {},
     "output_type": "display_data"
    },
    {
     "name": "stdout",
     "output_type": "stream",
     "text": [
      "[RESULT]: Val. Epoch: 12, summary_loss: 0.06382, AUC ROC: 0.975 time: 0.00000\n",
      "Time: 2021-06-29T10:30:33.912955 \n",
      "\n"
     ]
    },
    {
     "data": {
      "application/vnd.jupyter.widget-view+json": {
       "model_id": "81b236ff21e84598909516971331ac67",
       "version_major": 2,
       "version_minor": 0
      },
      "text/plain": [
       "  0%|                                                                                                         …"
      ]
     },
     "metadata": {},
     "output_type": "display_data"
    },
    {
     "name": "stdout",
     "output_type": "stream",
     "text": [
      "[RESULT]: Train. Epoch: 13, summary_loss: 0.07569, AUC_ROC: 0.973 time: 2025.45599\n"
     ]
    },
    {
     "data": {
      "application/vnd.jupyter.widget-view+json": {
       "model_id": "72c156da20094217bfd1e544fb5635fa",
       "version_major": 2,
       "version_minor": 0
      },
      "text/plain": [
       "  0%|                                                                                                         …"
      ]
     },
     "metadata": {},
     "output_type": "display_data"
    },
    {
     "name": "stdout",
     "output_type": "stream",
     "text": [
      "[RESULT]: Val. Epoch: 13, summary_loss: 0.05964, AUC ROC: 0.978 time: 0.00000\n",
      "Time: 2021-06-29T11:10:03.497996 \n",
      "\n"
     ]
    },
    {
     "data": {
      "application/vnd.jupyter.widget-view+json": {
       "model_id": "579cc124021e4155a09af6ce6361f71e",
       "version_major": 2,
       "version_minor": 0
      },
      "text/plain": [
       "  0%|                                                                                                         …"
      ]
     },
     "metadata": {},
     "output_type": "display_data"
    },
    {
     "name": "stdout",
     "output_type": "stream",
     "text": [
      "[RESULT]: Train. Epoch: 14, summary_loss: 0.07152, AUC_ROC: 0.976 time: 2050.33870\n"
     ]
    },
    {
     "data": {
      "application/vnd.jupyter.widget-view+json": {
       "model_id": "edbc2e2a7705487f95f7b8fdb093abf7",
       "version_major": 2,
       "version_minor": 0
      },
      "text/plain": [
       "  0%|                                                                                                         …"
      ]
     },
     "metadata": {},
     "output_type": "display_data"
    },
    {
     "name": "stdout",
     "output_type": "stream",
     "text": [
      "[RESULT]: Val. Epoch: 14, summary_loss: 0.06092, AUC ROC: 0.976 time: 0.00000\n",
      "Time: 2021-06-29T11:50:09.773201 \n",
      "\n"
     ]
    },
    {
     "data": {
      "application/vnd.jupyter.widget-view+json": {
       "model_id": "28421f48727a459eaee91011521958e5",
       "version_major": 2,
       "version_minor": 0
      },
      "text/plain": [
       "  0%|                                                                                                         …"
      ]
     },
     "metadata": {},
     "output_type": "display_data"
    },
    {
     "name": "stdout",
     "output_type": "stream",
     "text": [
      "[RESULT]: Train. Epoch: 15, summary_loss: 0.07069, AUC_ROC: 0.977 time: 2260.77897\n"
     ]
    },
    {
     "data": {
      "application/vnd.jupyter.widget-view+json": {
       "model_id": "27b28b3a20a948c3a7b22490ef866f0a",
       "version_major": 2,
       "version_minor": 0
      },
      "text/plain": [
       "  0%|                                                                                                         …"
      ]
     },
     "metadata": {},
     "output_type": "display_data"
    },
    {
     "name": "stdout",
     "output_type": "stream",
     "text": [
      "[RESULT]: Val. Epoch: 15, summary_loss: 0.06441, AUC ROC: 0.974 time: 0.00000\n",
      "Time: 2021-06-29T12:33:48.664067 \n",
      "\n"
     ]
    },
    {
     "data": {
      "application/vnd.jupyter.widget-view+json": {
       "model_id": "a04165113cac45ad972246aeb07881cf",
       "version_major": 2,
       "version_minor": 0
      },
      "text/plain": [
       "  0%|                                                                                                         …"
      ]
     },
     "metadata": {},
     "output_type": "display_data"
    },
    {
     "name": "stdout",
     "output_type": "stream",
     "text": [
      "[RESULT]: Train. Epoch: 16, summary_loss: 0.06883, AUC_ROC: 0.979 time: 2014.88988\n"
     ]
    },
    {
     "data": {
      "application/vnd.jupyter.widget-view+json": {
       "model_id": "a1835bba4ead44a4916be58bd7fa1185",
       "version_major": 2,
       "version_minor": 0
      },
      "text/plain": [
       "  0%|                                                                                                         …"
      ]
     },
     "metadata": {},
     "output_type": "display_data"
    },
    {
     "name": "stdout",
     "output_type": "stream",
     "text": [
      "[RESULT]: Val. Epoch: 16, summary_loss: 0.05970, AUC ROC: 0.977 time: 0.00000\n",
      "Time: 2021-06-29T13:13:20.559054 \n",
      "\n"
     ]
    },
    {
     "data": {
      "application/vnd.jupyter.widget-view+json": {
       "model_id": "02bdeee5aa904c74b91af062699b95c7",
       "version_major": 2,
       "version_minor": 0
      },
      "text/plain": [
       "  0%|                                                                                                         …"
      ]
     },
     "metadata": {},
     "output_type": "display_data"
    },
    {
     "name": "stdout",
     "output_type": "stream",
     "text": [
      "[RESULT]: Train. Epoch: 17, summary_loss: 0.06614, AUC_ROC: 0.980 time: 2347.52720\n"
     ]
    },
    {
     "data": {
      "application/vnd.jupyter.widget-view+json": {
       "model_id": "b9c3584f5347460eb4684b86bebe9181",
       "version_major": 2,
       "version_minor": 0
      },
      "text/plain": [
       "  0%|                                                                                                         …"
      ]
     },
     "metadata": {},
     "output_type": "display_data"
    },
    {
     "name": "stdout",
     "output_type": "stream",
     "text": [
      "[RESULT]: Val. Epoch: 17, summary_loss: 0.06829, AUC ROC: 0.974 time: 0.00000\n",
      "Time: 2021-06-29T13:58:55.268571 \n",
      "\n"
     ]
    },
    {
     "data": {
      "application/vnd.jupyter.widget-view+json": {
       "model_id": "e329daa4b6c9466da0da0e2a1938f69b",
       "version_major": 2,
       "version_minor": 0
      },
      "text/plain": [
       "  0%|                                                                                                         …"
      ]
     },
     "metadata": {},
     "output_type": "display_data"
    },
    {
     "name": "stdout",
     "output_type": "stream",
     "text": [
      "[RESULT]: Train. Epoch: 18, summary_loss: 0.06672, AUC_ROC: 0.980 time: 1932.29228\n"
     ]
    },
    {
     "data": {
      "application/vnd.jupyter.widget-view+json": {
       "model_id": "ab1be3c799fd4534999ea46c115d2b01",
       "version_major": 2,
       "version_minor": 0
      },
      "text/plain": [
       "  0%|                                                                                                         …"
      ]
     },
     "metadata": {},
     "output_type": "display_data"
    },
    {
     "name": "stdout",
     "output_type": "stream",
     "text": [
      "[RESULT]: Val. Epoch: 18, summary_loss: 0.06571, AUC ROC: 0.975 time: 0.00000\n",
      "Time: 2021-06-29T14:36:39.249921 \n",
      "\n"
     ]
    },
    {
     "data": {
      "application/vnd.jupyter.widget-view+json": {
       "model_id": "d14c622f0e40417ba99803e5d9587c56",
       "version_major": 2,
       "version_minor": 0
      },
      "text/plain": [
       "  0%|                                                                                                         …"
      ]
     },
     "metadata": {},
     "output_type": "display_data"
    },
    {
     "name": "stdout",
     "output_type": "stream",
     "text": [
      "[RESULT]: Train. Epoch: 19, summary_loss: 0.06457, AUC_ROC: 0.981 time: 1819.11543\n"
     ]
    },
    {
     "data": {
      "application/vnd.jupyter.widget-view+json": {
       "model_id": "22457f608afd48a79314776080b8c12f",
       "version_major": 2,
       "version_minor": 0
      },
      "text/plain": [
       "  0%|                                                                                                         …"
      ]
     },
     "metadata": {},
     "output_type": "display_data"
    },
    {
     "name": "stdout",
     "output_type": "stream",
     "text": [
      "[RESULT]: Val. Epoch: 19, summary_loss: 0.06579, AUC ROC: 0.974 time: 0.00000\n",
      "Time: 2021-06-29T15:12:14.578576 \n",
      "\n"
     ]
    },
    {
     "data": {
      "application/vnd.jupyter.widget-view+json": {
       "model_id": "2d05e835b68142f9901ea2f583581926",
       "version_major": 2,
       "version_minor": 0
      },
      "text/plain": [
       "  0%|                                                                                                         …"
      ]
     },
     "metadata": {},
     "output_type": "display_data"
    },
    {
     "name": "stdout",
     "output_type": "stream",
     "text": [
      "[RESULT]: Train. Epoch: 20, summary_loss: 0.06581, AUC_ROC: 0.981 time: 1802.39535\n"
     ]
    },
    {
     "data": {
      "application/vnd.jupyter.widget-view+json": {
       "model_id": "f9f6ee1300474ea78a468b79c85a3047",
       "version_major": 2,
       "version_minor": 0
      },
      "text/plain": [
       "  0%|                                                                                                         …"
      ]
     },
     "metadata": {},
     "output_type": "display_data"
    },
    {
     "name": "stdout",
     "output_type": "stream",
     "text": [
      "[RESULT]: Val. Epoch: 20, summary_loss: 0.06826, AUC ROC: 0.975 time: 0.00000\n",
      "Time: 2021-06-29T15:47:39.425262 \n",
      "\n"
     ]
    },
    {
     "data": {
      "application/vnd.jupyter.widget-view+json": {
       "model_id": "bca82fe5766c46bbb743f9f98a6fe30f",
       "version_major": 2,
       "version_minor": 0
      },
      "text/plain": [
       "  0%|                                                                                                         …"
      ]
     },
     "metadata": {},
     "output_type": "display_data"
    },
    {
     "name": "stdout",
     "output_type": "stream",
     "text": [
      "[RESULT]: Train. Epoch: 21, summary_loss: 0.06402, AUC_ROC: 0.982 time: 1796.06027\n"
     ]
    },
    {
     "data": {
      "application/vnd.jupyter.widget-view+json": {
       "model_id": "11a88b42ef6b4db8a15760308730e951",
       "version_major": 2,
       "version_minor": 0
      },
      "text/plain": [
       "  0%|                                                                                                         …"
      ]
     },
     "metadata": {},
     "output_type": "display_data"
    },
    {
     "name": "stdout",
     "output_type": "stream",
     "text": [
      "[RESULT]: Val. Epoch: 21, summary_loss: 0.06580, AUC ROC: 0.975 time: 0.00000\n",
      "Time: 2021-06-29T16:22:53.370372 \n",
      "\n"
     ]
    },
    {
     "data": {
      "application/vnd.jupyter.widget-view+json": {
       "model_id": "a921003d2f284895a0882e7bdba1ed4a",
       "version_major": 2,
       "version_minor": 0
      },
      "text/plain": [
       "  0%|                                                                                                         …"
      ]
     },
     "metadata": {},
     "output_type": "display_data"
    },
    {
     "name": "stdout",
     "output_type": "stream",
     "text": [
      "[RESULT]: Train. Epoch: 22, summary_loss: 0.06539, AUC_ROC: 0.981 time: 1798.39560\n"
     ]
    },
    {
     "data": {
      "application/vnd.jupyter.widget-view+json": {
       "model_id": "5a1e24040e094bdbafed91d1a52b7463",
       "version_major": 2,
       "version_minor": 0
      },
      "text/plain": [
       "  0%|                                                                                                         …"
      ]
     },
     "metadata": {},
     "output_type": "display_data"
    },
    {
     "name": "stdout",
     "output_type": "stream",
     "text": [
      "[RESULT]: Val. Epoch: 22, summary_loss: 0.06723, AUC ROC: 0.975 time: 0.00000\n",
      "Time: 2021-06-29T16:58:14.871923 \n",
      "\n"
     ]
    },
    {
     "data": {
      "application/vnd.jupyter.widget-view+json": {
       "model_id": "a889a92b1c324eebaa87dd797d8c7340",
       "version_major": 2,
       "version_minor": 0
      },
      "text/plain": [
       "  0%|                                                                                                         …"
      ]
     },
     "metadata": {},
     "output_type": "display_data"
    },
    {
     "name": "stdout",
     "output_type": "stream",
     "text": [
      "[RESULT]: Train. Epoch: 23, summary_loss: 0.06309, AUC_ROC: 0.982 time: 1788.54774\n"
     ]
    },
    {
     "data": {
      "application/vnd.jupyter.widget-view+json": {
       "model_id": "3b90cf3f052747f8ac87aed18a892cbe",
       "version_major": 2,
       "version_minor": 0
      },
      "text/plain": [
       "  0%|                                                                                                         …"
      ]
     },
     "metadata": {},
     "output_type": "display_data"
    },
    {
     "name": "stdout",
     "output_type": "stream",
     "text": [
      "[RESULT]: Val. Epoch: 23, summary_loss: 0.07336, AUC ROC: 0.973 time: 0.00000\n",
      "Time: 2021-06-29T17:33:20.129777 \n",
      "\n"
     ]
    },
    {
     "data": {
      "application/vnd.jupyter.widget-view+json": {
       "model_id": "39f532d0069d4feda4fbd1a97df21d7d",
       "version_major": 2,
       "version_minor": 0
      },
      "text/plain": [
       "  0%|                                                                                                         …"
      ]
     },
     "metadata": {},
     "output_type": "display_data"
    },
    {
     "name": "stdout",
     "output_type": "stream",
     "text": [
      "[RESULT]: Train. Epoch: 24, summary_loss: 0.06396, AUC_ROC: 0.981 time: 1791.21999\n"
     ]
    },
    {
     "data": {
      "application/vnd.jupyter.widget-view+json": {
       "model_id": "44629c27a35643f6a33f2d51ff3854da",
       "version_major": 2,
       "version_minor": 0
      },
      "text/plain": [
       "  0%|                                                                                                         …"
      ]
     },
     "metadata": {},
     "output_type": "display_data"
    },
    {
     "name": "stdout",
     "output_type": "stream",
     "text": [
      "[RESULT]: Val. Epoch: 24, summary_loss: 0.06758, AUC ROC: 0.974 time: 0.00000\n",
      "[ALL RESULTS]: AUC ROC \n",
      "mean value - 0.9773582897611455, max value - 0.9811853666179419, min value - -1000000.0\n"
     ]
    }
   ],
   "source": [
    "fitter.fit_crossval(dataset, transform=train_transform)"
   ]
  }
 ],
 "metadata": {
  "kernelspec": {
   "display_name": "Python 3",
   "language": "python",
   "name": "python3"
  },
  "language_info": {
   "codemirror_mode": {
    "name": "ipython",
    "version": 3
   },
   "file_extension": ".py",
   "mimetype": "text/x-python",
   "name": "python",
   "nbconvert_exporter": "python",
   "pygments_lexer": "ipython3",
   "version": "3.7.10"
  }
 },
 "nbformat": 4,
 "nbformat_minor": 5
}
