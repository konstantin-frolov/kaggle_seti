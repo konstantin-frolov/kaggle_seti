{
 "cells": [
  {
   "cell_type": "code",
   "execution_count": null,
   "id": "c66e5277",
   "metadata": {},
   "outputs": [],
   "source": [
    "from pathlib import Path\n",
    "import pandas as pd\n",
    "import timm\n",
    "import torch\n",
    "from model import *\n",
    "from utils import get_train_transform, get_device, set_seed\n",
    "import matplotlib.pyplot as plt\n",
    "from tqdm.notebook import tqdm"
   ]
  },
  {
   "cell_type": "markdown",
   "id": "6f88a31c",
   "metadata": {},
   "source": [
    "### Set dirs"
   ]
  },
  {
   "cell_type": "code",
   "execution_count": null,
   "id": "c9ab9110",
   "metadata": {},
   "outputs": [],
   "source": [
    "root_dir = Path.cwd()\n",
    "data_dir = root_dir.joinpath('data')\n",
    "img_dir = data_dir.joinpath('test')\n",
    "weights_dir = root_dir.joinpath('models', 'best_models')"
   ]
  },
  {
   "cell_type": "code",
   "execution_count": null,
   "id": "7770fe0e",
   "metadata": {},
   "outputs": [],
   "source": [
    "df = pd.read_csv(data_dir.joinpath('sample_submission.csv'))\n",
    "dataset = SetiDataset(df, img_dir)"
   ]
  },
  {
   "cell_type": "code",
   "execution_count": null,
   "id": "7783ebd2",
   "metadata": {},
   "outputs": [],
   "source": [
    "device = get_device()"
   ]
  },
  {
   "cell_type": "markdown",
   "id": "1bf9007e",
   "metadata": {},
   "source": [
    "### Visualize Test Data"
   ]
  },
  {
   "cell_type": "code",
   "execution_count": null,
   "id": "7350fe20",
   "metadata": {},
   "outputs": [],
   "source": [
    "idx = 4\n",
    "img, label = dataset.__getitem__(idx)\n",
    "_, axs = plt.subplots(1, img.shape[0], figsize=(15,5))\n",
    "for i, (ax, ch) in enumerate(zip(axs, img)):\n",
    "    ax.imshow(ch)\n",
    "    ax.axis('off')\n",
    "    ax.set_title(f'CH {i}')"
   ]
  },
  {
   "cell_type": "markdown",
   "id": "fb70d4cf",
   "metadata": {},
   "source": [
    "### Load models"
   ]
  },
  {
   "cell_type": "code",
   "execution_count": null,
   "id": "b58f2576",
   "metadata": {},
   "outputs": [],
   "source": [
    "efficientnet = timm.create_model('efficientnet_b0', pretrained=True)\n",
    "net = DoubleNet(efficientnet).to(device)\n",
    "checkpoint = torch.load(str(weights_dir.joinpath('best_checkpoint_fold_4_val_aucroc_0.981_010_epoch.bin')))\n",
    "net.load_state_dict(checkpoint['model_state_dict'])"
   ]
  },
  {
   "cell_type": "markdown",
   "id": "049d82ff",
   "metadata": {},
   "source": [
    "### Test model on data "
   ]
  },
  {
   "cell_type": "code",
   "execution_count": null,
   "id": "c873e185",
   "metadata": {},
   "outputs": [],
   "source": [
    "with torch.no_grad():\n",
    "    for idx in tqdm(range(dataset.__len__())):\n",
    "        img, _ = dataset.__getitem__(idx)\n",
    "        img = torch.unsqueeze(torch.tensor(img / img.max(), dtype=torch.float), 0).to(device)\n",
    "        label = (net.predict(img).cpu().numpy() > 0.5)[0, 0].astype(int)\n",
    "        dataset.__change_label__(idx, label)"
   ]
  },
  {
   "cell_type": "code",
   "execution_count": null,
   "id": "cf5bde25",
   "metadata": {},
   "outputs": [],
   "source": [
    "dataset.df['target']"
   ]
  },
  {
   "cell_type": "code",
   "execution_count": null,
   "id": "b9a5afed",
   "metadata": {},
   "outputs": [],
   "source": []
  }
 ],
 "metadata": {
  "kernelspec": {
   "display_name": "Python 3",
   "language": "python",
   "name": "python3"
  },
  "language_info": {
   "codemirror_mode": {
    "name": "ipython",
    "version": 3
   },
   "file_extension": ".py",
   "mimetype": "text/x-python",
   "name": "python",
   "nbconvert_exporter": "python",
   "pygments_lexer": "ipython3",
   "version": "3.7.10"
  }
 },
 "nbformat": 4,
 "nbformat_minor": 5
}
